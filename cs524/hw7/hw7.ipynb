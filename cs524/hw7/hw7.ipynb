{
 "cells": [
  {
   "cell_type": "markdown",
   "metadata": {
    "collapsed": true
   },
   "source": [
    "# Q1"
   ]
  },
  {
   "cell_type": "code",
   "execution_count": 30,
   "metadata": {
    "collapsed": false
   },
   "outputs": [
    {
     "name": "stdout",
     "output_type": "stream",
     "text": [
      "\n"
     ]
    }
   ],
   "source": [
    "# initialize parameters\n",
    "values =  [1 ; 5 ;10 ;25]\n",
    "weights = [2.5;5; 2.268; 5.67]\n",
    "println()"
   ]
  },
  {
   "cell_type": "code",
   "execution_count": 9,
   "metadata": {
    "collapsed": false
   },
   "outputs": [
    {
     "data": {
      "text/plain": [
       ":Optimal"
      ]
     },
     "execution_count": 9,
     "metadata": {},
     "output_type": "execute_result"
    }
   ],
   "source": [
    "using JuMP, Cbc\n",
    "\n",
    "m = Model(solver = CbcSolver())\n",
    "\n",
    "#variable of coins used\n",
    "@variable(m, x[1:4] >= 0, Int)\n",
    "#must be exact change\n",
    "@constraint(m, dot(x,values) == 99)\n",
    "#minimize weight\n",
    "@objective(m, Min, dot(x,weights))\n",
    "solve(m)"
   ]
  },
  {
   "cell_type": "code",
   "execution_count": 13,
   "metadata": {
    "collapsed": false
   },
   "outputs": [
    {
     "name": "stdout",
     "output_type": "stream",
     "text": [
      "Optimal strategy is 4.0 pennies, 0.0 nickels, 7.000000000000001 dimes and 1.0 quarters."
     ]
    }
   ],
   "source": [
    "coins = getvalue(x)\n",
    "print(\"Optimal strategy is \", coins[1], \" pennies, \", \n",
    "coins[2], \" nickels, \", \n",
    "coins[3], \" dimes and \", \n",
    "coins[4], \" quarters.\")"
   ]
  },
  {
   "cell_type": "markdown",
   "metadata": {},
   "source": [
    "# Q2"
   ]
  },
  {
   "cell_type": "code",
   "execution_count": 1,
   "metadata": {
    "collapsed": false
   },
   "outputs": [
    {
     "name": "stdout",
     "output_type": "stream",
     "text": [
      "\n"
     ]
    }
   ],
   "source": [
    "#Initialze parameters\n",
    "capacities = [10; 8; 9; 6] * 10^3\n",
    "plant_cost = [9 ; 5; 3;1] * 10^6\n",
    "cost_per_cpu = [1, 1.7, 2.3, 2.9] * 10^3\n",
    "profit_per_cpu = 3.5 * 10^3\n",
    "println()"
   ]
  },
  {
   "cell_type": "code",
   "execution_count": 2,
   "metadata": {
    "collapsed": false
   },
   "outputs": [
    {
     "name": "stderr",
     "output_type": "stream",
     "text": [
      "\u001b[1m\u001b[34mINFO: Precompiling module JuMP.\n",
      "\u001b[0m\u001b[1m\u001b[34mINFO: Precompiling module Cbc.\n",
      "\u001b[0m"
     ]
    },
    {
     "data": {
      "text/plain": [
       ":Optimal"
      ]
     },
     "execution_count": 2,
     "metadata": {},
     "output_type": "execute_result"
    }
   ],
   "source": [
    "#Make model and solve\n",
    "using JuMP, Cbc\n",
    "\n",
    "m = Model(solver= CbcSolver())\n",
    "#production at each factory\n",
    "@variable(m, prod[1:4] >= 0, Int)\n",
    "\n",
    "#Whether each factory is used\n",
    "@variable(m, use[1:4], Bin)\n",
    "\n",
    "#production capacity\n",
    "@constraint(m, prod .<= (use .* capacities))\n",
    "\n",
    "@constraint(m, sum(prod) <= 20000)\n",
    "\n",
    "@objective(m, Max, sum(prod)*profit_per_cpu - \n",
    "dot(prod, cost_per_cpu) - dot(use,plant_cost))\n",
    "\n",
    "solve(m)\n",
    "\n"
   ]
  },
  {
   "cell_type": "code",
   "execution_count": 3,
   "metadata": {
    "collapsed": false
   },
   "outputs": [
    {
     "name": "stdout",
     "output_type": "stream",
     "text": [
      "The company can get a maximum profit of $2.56e7 by using all factories such that,\n",
      "10000.0 computers from factory 1\n",
      "8000.0 computers from factory 2\n",
      "0.0 computers from factory 3\n",
      "2000.0 computers from factory 4\n"
     ]
    }
   ],
   "source": [
    "println(\"The company can get a maximum profit of \\$\",getobjectivevalue(m), \" by using all factories such that,\")\n",
    "prod_val = getvalue(prod)\n",
    "for i in 1:4\n",
    "    println(prod_val[i], \" computers from factory \" , i)\n",
    "end"
   ]
  },
  {
   "cell_type": "markdown",
   "metadata": {},
   "source": [
    "# Q3"
   ]
  },
  {
   "cell_type": "code",
   "execution_count": 4,
   "metadata": {
    "collapsed": false
   },
   "outputs": [
    {
     "name": "stdout",
     "output_type": "stream",
     "text": [
      "\n"
     ]
    }
   ],
   "source": [
    "#Paramaters\n",
    "min_inv = [3; 2; 9; 5;12;4]\n",
    "max_inv = [27;12;35;15;46;18]\n",
    "exp_return = [0.13; 0.09; 0.17; 0.1; 0.22; 0.12]\n",
    "\n",
    "invest_cap = 80\n",
    "println()"
   ]
  },
  {
   "cell_type": "code",
   "execution_count": 5,
   "metadata": {
    "collapsed": false
   },
   "outputs": [
    {
     "data": {
      "text/plain": [
       ":Optimal"
      ]
     },
     "execution_count": 5,
     "metadata": {},
     "output_type": "execute_result"
    }
   ],
   "source": [
    "#setting model and solving\n",
    "using JuMP, Cbc\n",
    "m = Model(solver = CbcSolver())\n",
    "\n",
    "#investments in each option\n",
    "@variable(m, invest[1:6] >= 0, Int)\n",
    "\n",
    "#use stock binary variable\n",
    "@variable(m, use[1:6], Bin)\n",
    "\n",
    "#investment cap\n",
    "@constraint(m, sum(invest) <= invest_cap)\n",
    "\n",
    "#min invest\n",
    "@constraint(m, invest .>= use .* min_inv)\n",
    "\n",
    "#max invest\n",
    "@constraint(m, invest .<= use .*max_inv)\n",
    "\n",
    "#five constraint\n",
    "@constraint(m, invest[5] \n",
    "<= invest[2] + invest[4] + invest[6])\n",
    "\n",
    "#three constraint\n",
    "@constraint(m, invest[6] >= use[3]*min_inv[6])\n",
    "\n",
    "@objective(m, Max, dot(exp_return, invest))\n",
    "\n",
    "solve(m)\n",
    "\n"
   ]
  },
  {
   "cell_type": "code",
   "execution_count": 38,
   "metadata": {
    "collapsed": false
   },
   "outputs": [
    {
     "name": "stdout",
     "output_type": "stream",
     "text": [
      "To get a maximum return of $ 13.5 million, one should invest\n",
      "$0.0 million in option 1\n",
      "$0.0 million in option 2\n",
      "$34.0 million in option 3\n",
      "$5.0 million in option 4\n",
      "$23.000000000000004 million in option 5\n",
      "$17.999999999999996 million in option 6\n"
     ]
    }
   ],
   "source": [
    "println(\"To get a maximum return of \\$ \", getobjectivevalue(m), \n",
    "\" million, one should invest\")\n",
    "inv_val = getvalue(invest)\n",
    "for i in 1:6\n",
    "    println(\"\\$\", inv_val[i] , \" million in option \" , i)\n",
    "end"
   ]
  },
  {
   "cell_type": "markdown",
   "metadata": {},
   "source": [
    "# Q4"
   ]
  },
  {
   "cell_type": "code",
   "execution_count": 7,
   "metadata": {
    "collapsed": false
   },
   "outputs": [
    {
     "data": {
      "text/plain": [
       ":Optimal"
      ]
     },
     "execution_count": 7,
     "metadata": {},
     "output_type": "execute_result"
    }
   ],
   "source": [
    "#create model\n",
    "using JuMP, Cbc\n",
    "m = Model(solver = CbcSolver())\n",
    "#1 if button pressed\n",
    "@variable(m, grid[1:5, 1:5], Bin)\n",
    "#number of times switched\n",
    "@variable(m, switched[1:5, 1:5], Int)\n",
    "\n",
    "#for odd constraint\n",
    "@variable(m, two_component[1:5, 1:5] <= 2, Int)\n",
    "@variable(m, odd[1:5,1:5], Bin)\n",
    "\n",
    "for i in 1:5\n",
    "    for j in 1:5\n",
    "        @constraint(m, switched[i,j] == \n",
    "        sum(grid[max(1,i-1):min(5,i+1),j]) \n",
    "            + sum(grid[i,max(1,j-1):min(5,j+1)])\n",
    "        - grid[i,j])\n",
    "        \n",
    "        #ensure switches are odd\n",
    "        @constraint(m, switched[i,j] == 2 * two_component[i,j] + odd[i,j])\n",
    "        @constraint(m, odd[i,j] == 1)\n",
    "    end\n",
    "end\n",
    "\n",
    "\n",
    "#minimize number of presses\n",
    "@objective(m, Min, sum(grid))\n",
    "solve(m)"
   ]
  },
  {
   "cell_type": "code",
   "execution_count": 16,
   "metadata": {
    "collapsed": false
   },
   "outputs": [
    {
     "name": "stdout",
     "output_type": "stream",
     "text": [
      "Best strategy requires, 15.0 presses in this or any arbitrary order\n",
      "Press button (1,1)\n",
      "Press button (1,3)\n",
      "Press button (1,4)\n",
      "Press button (2,2)\n",
      "Press button (2,3)\n",
      "Press button (2,4)\n",
      "Press button (3,1)\n",
      "Press button (3,2)\n",
      "Press button (3,3)\n",
      "Press button (4,1)\n",
      "Press button (4,2)\n",
      "Press button (4,4)\n",
      "Press button (4,5)\n",
      "Press button (5,4)\n",
      "Press button (5,5)\n"
     ]
    }
   ],
   "source": [
    "println(\"Best strategy requires, \" , getobjectivevalue(m), \n",
    "\" presses in this or any arbitrary order\")\n",
    "presses = getvalue(grid)\n",
    "for i in 1:5\n",
    "    for j in 1:5\n",
    "        if presses[i,j] == 1\n",
    "            println(\"Press button (\" , i , \",\", j, \")\")\n",
    "        end\n",
    "    end\n",
    "end"
   ]
  }
 ],
 "metadata": {
  "anaconda-cloud": {},
  "kernelspec": {
   "display_name": "Julia 0.5.1",
   "language": "julia",
   "name": "julia-0.5"
  },
  "language_info": {
   "file_extension": ".jl",
   "mimetype": "application/julia",
   "name": "julia",
   "version": "0.5.1"
  }
 },
 "nbformat": 4,
 "nbformat_minor": 2
}
