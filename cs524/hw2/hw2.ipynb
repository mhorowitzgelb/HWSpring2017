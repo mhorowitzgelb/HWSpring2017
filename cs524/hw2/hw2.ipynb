{
 "cells": [
  {
   "cell_type": "markdown",
   "metadata": {},
   "source": [
    "# Question 1\n",
    "## a."
   ]
  },
  {
   "cell_type": "code",
   "execution_count": 1,
   "metadata": {
    "collapsed": false
   },
   "outputs": [
    {
     "name": "stderr",
     "output_type": "stream",
     "text": [
      "\u001b[1m\u001b[34mINFO: Precompiling module NamedArrays.\n",
      "\u001b[0m"
     ]
    }
   ],
   "source": [
    "using NamedArrays      # make sure you run Pkg.add(\"NamedArrays\") first!\n",
    "\n",
    "# import Stigler's data set\n",
    "raw = readcsv(\"stigler.csv\")\n",
    "(m,n) = size(raw)\n",
    "\n",
    "n_nutrients = 2:n      # columns containing nutrients\n",
    "n_foods = 3:m          # rows containing food names\n",
    "\n",
    "nutrients = raw[1,n_nutrients][:]   # the list of nutrients (convert to 1-D array)\n",
    "foods = raw[n_foods,1][:]           # the list of foods (convert to 1-D array)\n",
    "\n",
    "# lower[i] is the minimum daily requirement of nutrient i.\n",
    "lower = Dict( zip(nutrients,raw[2,n_nutrients]) )\n",
    "\n",
    "# data[f,i] is the amount of nutrient i contained in food f.\n",
    "data = NamedArray( raw[n_foods,n_nutrients], (foods,nutrients), (\"foods\",\"nutrients\") );\n"
   ]
  },
  {
   "cell_type": "code",
   "execution_count": 3,
   "metadata": {
    "collapsed": false
   },
   "outputs": [
    {
     "data": {
      "text/plain": [
       ":Optimal"
      ]
     },
     "execution_count": 3,
     "metadata": {},
     "output_type": "execute_result"
    }
   ],
   "source": [
    "using JuMP\n",
    "\n",
    "m  = Model()\n",
    "@variable(m, x[1:length(foods)] >= 0)\n",
    "for i in 1:length(nutrients)\n",
    "    @constraint(m, Array{Float64}(raw[n_foods,i+1])'*x .>= lower[nutrients[i]])\n",
    "end\n",
    "@objective(m,Min,sum(x))\n",
    "\n",
    "solve(m)\n"
   ]
  },
  {
   "cell_type": "markdown",
   "metadata": {},
   "source": [
    "### Cost per year is slightly less than Stigler's"
   ]
  },
  {
   "cell_type": "code",
   "execution_count": 4,
   "metadata": {
    "collapsed": false
   },
   "outputs": [
    {
     "data": {
      "text/html": [
       "39.66173154546625"
      ],
      "text/plain": [
       "39.66173154546625"
      ]
     },
     "execution_count": 4,
     "metadata": {},
     "output_type": "execute_result"
    }
   ],
   "source": [
    "getobjectivevalue(m)* 365"
   ]
  },
  {
   "cell_type": "markdown",
   "metadata": {},
   "source": [
    "### Foods used each day"
   ]
  },
  {
   "cell_type": "code",
   "execution_count": 5,
   "metadata": {
    "collapsed": false
   },
   "outputs": [
    {
     "name": "stdout",
     "output_type": "stream",
     "text": [
      "1. Wheat Flour (Enriched): 0.02951906167648827\n",
      "2. Macaroni: 0.0\n",
      "3. Wheat Cereal (Enriched): 0.0\n",
      "4. Corn Flakes: 0.0\n",
      "5. Corn Meal: 0.0\n",
      "6. Hominy Grits: 0.0\n",
      "7. Rice: 0.0\n",
      "8. Rolled Oats: 0.0\n",
      "9. White Bread (Enriched): 0.0\n",
      "10. Whole Wheat Bread: 0.0\n",
      "11. Rye Bread: 0.0\n",
      "12. Pound Cake: 0.0\n",
      "13. Soda Crackers: 0.0\n",
      "14. Milk: 0.0\n",
      "15. Evaporated Milk (can): 0.0\n",
      "16. Butter: 0.0\n",
      "17. Oleomargarine: 0.0\n",
      "18. Eggs: 0.0\n",
      "19. Cheese (Cheddar): 0.0\n",
      "20. Cream: 0.0\n",
      "21. Peanut Butter: 0.0\n",
      "22. Mayonnaise: 0.0\n",
      "23. Crisco: 0.0\n",
      "24. Lard: 0.0\n",
      "25. Sirloin Steak: 0.0\n",
      "26. Round Steak: 0.0\n",
      "27. Rib Roast: 0.0\n",
      "28. Chuck Roast: 0.0\n",
      "29. Plate: 0.0\n",
      "30. Liver (Beef): 0.0018925572907052643\n",
      "31. Leg of Lamb: 0.0\n",
      "32. Lamb Chops (Rib): 0.0\n",
      "33. Pork Chops: 0.0\n",
      "34. Pork Loin Roast: 0.0\n",
      "35. Bacon: 0.0\n",
      "36. Ham, smoked: 0.0\n",
      "37. Salt Pork: 0.0\n",
      "38. Roasting Chicken: 0.0\n",
      "39. Veal Cutlets: 0.0\n",
      "40. Salmon, Pink (can): 0.0\n",
      "41. Apples: 0.0\n",
      "42. Bananas: 0.0\n",
      "43. Lemons: 0.0\n",
      "44. Oranges: 0.0\n",
      "45. Green Beans: 0.0\n",
      "46. Cabbage: 0.011214435246144865\n",
      "47. Carrots: 0.0\n",
      "48. Celery: 0.0\n",
      "49. Lettuce: 0.0\n",
      "50. Onions: 0.0\n",
      "51. Potatoes: 0.0\n",
      "52. Spinach: 0.005007660466725203\n",
      "53. Sweet Potatoes: 0.0\n",
      "54. Peaches (can): 0.0\n",
      "55. Pears (can): 0.0\n",
      "56. Pineapple (can): 0.0\n",
      "57. Asparagus (can): 0.0\n",
      "58. Green Beans (can): 0.0\n",
      "59. Pork and Beans (can): 0.0\n",
      "60. Corn (can): 0.0\n",
      "61. Peas (can): 0.0\n",
      "62. Tomatoes (can): 0.0\n",
      "63. Tomato Soup (can): 0.0\n",
      "64. Peaches, Dried: 0.0\n",
      "65. Prunes, Dried: 0.0\n",
      "66. Raisins, Dried: 0.0\n",
      "67. Peas, Dried: 0.0\n",
      "68. Lima Beans, Dried: 0.0\n",
      "69. Navy Beans, Dried: 0.061028563526693246\n",
      "70. Coffee: 0.0\n",
      "71. Tea: 0.0\n",
      "72. Cocoa: 0.0\n",
      "73. Chocolate: 0.0\n",
      "74. Sugar: 0.0\n",
      "75. Corn Syrup: 0.0\n",
      "76. Molasses: 0.0\n",
      "77. Strawberry Preserves: 0.0\n"
     ]
    }
   ],
   "source": [
    "x_val = getvalue(x)\n",
    "for i in 1:length(foods)\n",
    "    println(i , \". \"foods[i] , \": \", x_val[i])\n",
    "end"
   ]
  },
  {
   "cell_type": "markdown",
   "metadata": {},
   "source": [
    "## b."
   ]
  },
  {
   "cell_type": "code",
   "execution_count": 6,
   "metadata": {
    "collapsed": false
   },
   "outputs": [
    {
     "data": {
      "text/plain": [
       ":Optimal"
      ]
     },
     "execution_count": 6,
     "metadata": {},
     "output_type": "execute_result"
    }
   ],
   "source": [
    "diet_restrict = [1,2,3,9,10,11,12,13,14,15,16,17,18,19,20,22,24,25,26,27,28,\n",
    "30,31,32,33,34,35,36,37,38,39,40,59]\n",
    "\n",
    "@constraint(m, x[diet_restrict] .== 0)\n",
    "solve(m)"
   ]
  },
  {
   "cell_type": "markdown",
   "metadata": {},
   "source": [
    "### Cost per year of gluten free vegan"
   ]
  },
  {
   "cell_type": "code",
   "execution_count": 7,
   "metadata": {
    "collapsed": false
   },
   "outputs": [
    {
     "data": {
      "text/html": [
       "45.58854783427841"
      ],
      "text/plain": [
       "45.58854783427841"
      ]
     },
     "execution_count": 7,
     "metadata": {},
     "output_type": "execute_result"
    }
   ],
   "source": [
    "getobjectivevalue(m) * 365"
   ]
  },
  {
   "cell_type": "markdown",
   "metadata": {},
   "source": [
    "### Foods consumed per day"
   ]
  },
  {
   "cell_type": "code",
   "execution_count": 8,
   "metadata": {
    "collapsed": false
   },
   "outputs": [
    {
     "name": "stdout",
     "output_type": "stream",
     "text": [
      "1. Wheat Flour (Enriched): 0.0\n",
      "2. Macaroni: 0.0\n",
      "3. Wheat Cereal (Enriched): 0.0\n",
      "4. Corn Flakes: 0.0\n",
      "5. Corn Meal: 0.005344246335991793\n",
      "6. Hominy Grits: 0.0\n",
      "7. Rice: 0.0\n",
      "8. Rolled Oats: 0.0\n",
      "9. White Bread (Enriched): 0.0\n",
      "10. Whole Wheat Bread: 0.0\n",
      "11. Rye Bread: 0.0\n",
      "12. Pound Cake: 0.0\n",
      "13. Soda Crackers: 0.0\n",
      "14. Milk: 0.0\n",
      "15. Evaporated Milk (can): 0.0\n",
      "16. Butter: 0.0\n",
      "17. Oleomargarine: 0.0\n",
      "18. Eggs: 0.0\n",
      "19. Cheese (Cheddar): 0.0\n",
      "20. Cream: 0.0\n",
      "21. Peanut Butter: 0.0\n",
      "22. Mayonnaise: 0.0\n",
      "23. Crisco: 0.0\n",
      "24. Lard: 0.0\n",
      "25. Sirloin Steak: 0.0\n",
      "26. Round Steak: 0.0\n",
      "27. Rib Roast: 0.0\n",
      "28. Chuck Roast: 0.0\n",
      "29. Plate: 0.0\n",
      "30. Liver (Beef): 0.0\n",
      "31. Leg of Lamb: 0.0\n",
      "32. Lamb Chops (Rib): 0.0\n",
      "33. Pork Chops: 0.0\n",
      "34. Pork Loin Roast: 0.0\n",
      "35. Bacon: 0.0\n",
      "36. Ham, smoked: 0.0\n",
      "37. Salt Pork: 0.0\n",
      "38. Roasting Chicken: 0.0\n",
      "39. Veal Cutlets: 0.0\n",
      "40. Salmon, Pink (can): 0.0\n",
      "41. Apples: 0.0\n",
      "42. Bananas: 0.0\n",
      "43. Lemons: 0.0\n",
      "44. Oranges: 0.0\n",
      "45. Green Beans: 0.0\n",
      "46. Cabbage: 0.011313245088275924\n",
      "47. Carrots: 0.0\n",
      "48. Celery: 0.0\n",
      "49. Lettuce: 0.0\n",
      "50. Onions: 0.0\n",
      "51. Potatoes: 0.0\n",
      "52. Spinach: 0.005175748501287311\n",
      "53. Sweet Potatoes: 0.0\n",
      "54. Peaches (can): 0.0\n",
      "55. Pears (can): 0.0\n",
      "56. Pineapple (can): 0.0\n",
      "57. Asparagus (can): 0.0\n",
      "58. Green Beans (can): 0.0\n",
      "59. Pork and Beans (can): 0.0\n",
      "60. Corn (can): 0.0\n",
      "61. Peas (can): 0.0\n",
      "62. Tomatoes (can): 0.0\n",
      "63. Tomato Soup (can): 0.0\n",
      "64. Peaches, Dried: 0.0\n",
      "65. Prunes, Dried: 0.0\n",
      "66. Raisins, Dried: 0.0\n",
      "67. Peas, Dried: 0.0\n",
      "68. Lima Beans, Dried: 0.0\n",
      "69. Navy Beans, Dried: 0.10306689112726253\n",
      "70. Coffee: 0.0\n",
      "71. Tea: 0.0\n",
      "72. Cocoa: 0.0\n",
      "73. Chocolate: 0.0\n",
      "74. Sugar: 0.0\n",
      "75. Corn Syrup: 0.0\n",
      "76. Molasses: 0.0\n",
      "77. Strawberry Preserves: 0.0\n"
     ]
    }
   ],
   "source": [
    "x_val = getvalue(x)\n",
    "for i in 1:length(foods)\n",
    "    println(i , \". \", foods[i], \": \", x_val[i])\n",
    "end"
   ]
  },
  {
   "cell_type": "markdown",
   "metadata": {},
   "source": [
    "# Question 2"
   ]
  },
  {
   "cell_type": "code",
   "execution_count": 10,
   "metadata": {
    "collapsed": false
   },
   "outputs": [
    {
     "data": {
      "text/plain": [
       "3×4 Array{Float64,2}:\n",
       " 0.0  2.0  6.0  0.0\n",
       " 2.0  0.0  2.0  6.0\n",
       " 6.0  6.0  0.0  0.0"
      ]
     },
     "execution_count": 10,
     "metadata": {},
     "output_type": "execute_result"
    }
   ],
   "source": [
    "time_constraint = [3; 4; 2]\n",
    "worker_months_required = [8; 10; 12;]\n",
    "m = Model()\n",
    "@variable(m, x[1:3,1:4] >= 0)\n",
    "\n",
    "#workers per job\n",
    "@constraint(m , x .<= 6)\n",
    "\n",
    "#workers per month\n",
    "for i in 1:4\n",
    "    @constraint(m, sum(x[:,i]) <= 8)\n",
    "end\n",
    "\n",
    "#time constraint and work hours constraint\n",
    "for j in 1:3\n",
    "    @constraint(m,sum(x[j,1:time_constraint[j]]) >= worker_months_required[j])\n",
    "end\n",
    "@objective(m,Min, sum(x))\n",
    "\n",
    "solve(m)\n",
    "\n",
    "getvalue(x)\n",
    "\n"
   ]
  },
  {
   "cell_type": "markdown",
   "metadata": {},
   "source": [
    "### Yes the jobs can be completed as there is a feasible solution to the problem that minimizes the number of worker hours required.\n",
    "\n",
    "# Question 3"
   ]
  },
  {
   "cell_type": "code",
   "execution_count": 11,
   "metadata": {
    "collapsed": false
   },
   "outputs": [
    {
     "data": {
      "text/plain": [
       ":Optimal"
      ]
     },
     "execution_count": 11,
     "metadata": {},
     "output_type": "execute_result"
    }
   ],
   "source": [
    "a = [\n",
    "    1 -1/3;\n",
    "    1 3/2;\n",
    "    -1 0;\n",
    "    0 1;\n",
    "    0 -1;\n",
    "]\n",
    "a_norm = [(1 + (1/3)^2)^(1/2) ; \n",
    "    (1 + (3/2)^2)^(1/2);\n",
    "    1;\n",
    "    1;\n",
    "    1;\n",
    "]\n",
    "\n",
    "b = [500; 1050; 0; 500; 0] \n",
    "m = Model()\n",
    "@variable(m, x[1:2] >= 0)\n",
    "@variable(m, r >= 0)\n",
    "@constraint(m,a * x + (r+50)* a_norm .<= b)\n",
    "@objective(m, Max, r)\n",
    "solve(m)"
   ]
  },
  {
   "cell_type": "markdown",
   "metadata": {},
   "source": [
    "### Radius is "
   ]
  },
  {
   "cell_type": "code",
   "execution_count": 12,
   "metadata": {
    "collapsed": false
   },
   "outputs": [
    {
     "data": {
      "text/html": [
       "194.02852679380192"
      ],
      "text/plain": [
       "194.02852679380192"
      ]
     },
     "execution_count": 12,
     "metadata": {},
     "output_type": "execute_result"
    }
   ],
   "source": [
    "r_val= getobjectivevalue(m)"
   ]
  },
  {
   "cell_type": "markdown",
   "metadata": {},
   "source": [
    "### Center is "
   ]
  },
  {
   "cell_type": "code",
   "execution_count": 13,
   "metadata": {
    "collapsed": false
   },
   "outputs": [
    {
     "name": "stdout",
     "output_type": "stream",
     "text": [
      "x: 244.02852679380177 y: 244.02852679380192\n"
     ]
    }
   ],
   "source": [
    "x_val = getvalue(x)\n",
    "println(\"x: \" , x_val[1], \" y: \", x_val[2])"
   ]
  },
  {
   "cell_type": "markdown",
   "metadata": {},
   "source": [
    "### Plotting museum site"
   ]
  },
  {
   "cell_type": "code",
   "execution_count": 25,
   "metadata": {
    "collapsed": false
   },
   "outputs": [
    {
     "data": {
      "image/png": "[encoded data removed]",
      "text/plain": [
       "PyPlot.Figure(PyObject <matplotlib.figure.Figure object at 0x7f3735284e80>)"
      ]
     },
     "metadata": {},
     "output_type": "display_data"
    },
    {
     "data": {
      "text/plain": [
       "(-100,700)"
      ]
     },
     "execution_count": 25,
     "metadata": {},
     "output_type": "execute_result"
    }
   ],
   "source": [
    "using PyPlot\n",
    "plot([0,300],500 * ones(2))\n",
    "plot([300,600],[500,300] )\n",
    "plot([500,600],[0,300])\n",
    "plot([0,500],[0,0])\n",
    "plot([0,0],[0,500])\n",
    "using PyCall\n",
    "@pyimport matplotlib.patches as patch\n",
    "\n",
    "ax = gca() # get current axes\n",
    "\n",
    "\n",
    "r = r_val \n",
    "# coordinates of center\n",
    "x = x_val[1]\n",
    "y = x_val[2]\n",
    "\n",
    "grid(\"on\")\n",
    "ax[:set_aspect](\"equal\") # if I comment this line an ellipse is plotted\n",
    "c = patch.Circle([x,y],r,fc=\"grey\")\n",
    "ax[:add_artist](c)\n",
    "ylim(-100,600)\n",
    "xlim(-100,700)\n"
   ]
  },
  {
   "cell_type": "markdown",
   "metadata": {},
   "source": [
    "# Question 4\n",
    "## a."
   ]
  },
  {
   "cell_type": "code",
   "execution_count": 15,
   "metadata": {
    "collapsed": false
   },
   "outputs": [
    {
     "data": {
      "text/plain": [
       ":Optimal"
      ]
     },
     "execution_count": 15,
     "metadata": {},
     "output_type": "execute_result"
    }
   ],
   "source": [
    "demand = [43; 40; 36; 36; 35; 38; 41; 46; 49; 48; 47; 47;\n",
    "          48; 46; 45; 47; 50; 63; 75; 75; 72; 66; 57; 50]\n",
    "battery_size = 30\n",
    "m = Model()\n",
    "\n",
    "@variable(m, out_flow[1:25] >= 0)\n",
    "@variable(m, low_power[1:25] >=0)\n",
    "@variable(m, high_power[1:25] >= 0)\n",
    "\n",
    "#dummy constraints\n",
    "@constraint(m, low_power[1] == 0)\n",
    "@constraint(m, high_power[1] == 0)\n",
    "@constraint(m, out_flow[1] == 0)\n",
    "\n",
    "#low power constraint\n",
    "@constraint(m, low_power .<= 50)\n",
    "\n",
    "#total_power constrain\n",
    "@constraint(m, low_power + high_power .<= 65)\n",
    "\n",
    "#flow constraints\n",
    "for i in 2:25\n",
    "    @constraint(m, out_flow[i] == low_power[i] + high_power[i] + out_flow[i-1] - demand[i-1])\n",
    "end\n",
    "@constraint(m, out_flow .<= battery_size)\n",
    "@objective(m, Min, sum(low_power) * 100 + sum(high_power) * 400)\n",
    "\n",
    "solve(m)\n",
    "\n",
    "\n"
   ]
  },
  {
   "cell_type": "markdown",
   "metadata": {},
   "source": [
    "Total cost"
   ]
  },
  {
   "cell_type": "code",
   "execution_count": 16,
   "metadata": {
    "collapsed": false
   },
   "outputs": [
    {
     "data": {
      "text/html": [
       "143400.0"
      ],
      "text/plain": [
       "143400.0"
      ]
     },
     "execution_count": 16,
     "metadata": {},
     "output_type": "execute_result"
    }
   ],
   "source": [
    "getobjectivevalue(m)"
   ]
  },
  {
   "cell_type": "markdown",
   "metadata": {},
   "source": [
    "Now calculate without battery"
   ]
  },
  {
   "cell_type": "code",
   "execution_count": 17,
   "metadata": {
    "collapsed": false
   },
   "outputs": [
    {
     "data": {
      "text/plain": [
       ":Optimal"
      ]
     },
     "execution_count": 17,
     "metadata": {},
     "output_type": "execute_result"
    }
   ],
   "source": [
    "battery_size = 0\n",
    "m = Model()\n",
    "\n",
    "@variable(m, out_flow[1:25] >= 0)\n",
    "@variable(m, low_power[1:25] >=0)\n",
    "@variable(m, high_power[1:25] >= 0)\n",
    "\n",
    "#dummy constraints\n",
    "@constraint(m, low_power[1] == 0)\n",
    "@constraint(m, high_power[1] == 0)\n",
    "@constraint(m, out_flow[1] == 0)\n",
    "\n",
    "#low power constraint\n",
    "@constraint(m, low_power .<= 50)\n",
    "\n",
    "#total_power constraint set back to 75\n",
    "@constraint(m, low_power + high_power .<= 75)\n",
    "\n",
    "#flow constraints\n",
    "for i in 2:25\n",
    "    @constraint(m, out_flow[i] == low_power[i] + high_power[i] + out_flow[i-1] - demand[i-1])\n",
    "end\n",
    "@constraint(m, out_flow .<= battery_size)\n",
    "@objective(m, Min, sum(low_power) * 100 + sum(high_power) * 400)\n",
    "\n",
    "solve(m)\n",
    "\n"
   ]
  },
  {
   "cell_type": "code",
   "execution_count": 18,
   "metadata": {
    "collapsed": false
   },
   "outputs": [
    {
     "data": {
      "text/html": [
       "152400.0"
      ],
      "text/plain": [
       "152400.0"
      ]
     },
     "execution_count": 18,
     "metadata": {},
     "output_type": "execute_result"
    }
   ],
   "source": [
    "getobjectivevalue(m)"
   ]
  },
  {
   "cell_type": "markdown",
   "metadata": {},
   "source": [
    "So we save"
   ]
  },
  {
   "cell_type": "code",
   "execution_count": 19,
   "metadata": {
    "collapsed": false
   },
   "outputs": [
    {
     "data": {
      "text/html": [
       "9000.0"
      ],
      "text/plain": [
       "9000.0"
      ]
     },
     "execution_count": 19,
     "metadata": {},
     "output_type": "execute_result"
    }
   ],
   "source": [
    "152400.0 - 143400.0"
   ]
  },
  {
   "cell_type": "markdown",
   "metadata": {},
   "source": [
    "## b.\n",
    "Now if our battery has infinite capacity"
   ]
  },
  {
   "cell_type": "code",
   "execution_count": 20,
   "metadata": {
    "collapsed": false
   },
   "outputs": [
    {
     "data": {
      "text/plain": [
       ":Optimal"
      ]
     },
     "execution_count": 20,
     "metadata": {},
     "output_type": "execute_result"
    }
   ],
   "source": [
    "m = Model()\n",
    "\n",
    "@variable(m, out_flow[1:25] >= 0)\n",
    "@variable(m, low_power[1:25] >=0)\n",
    "@variable(m, high_power[1:25] >= 0)\n",
    "\n",
    "#dummy constraints\n",
    "@constraint(m, low_power[1] == 0)\n",
    "@constraint(m, high_power[1] == 0)\n",
    "@constraint(m, out_flow[1] == 0)\n",
    "\n",
    "#low power constraint\n",
    "@constraint(m, low_power .<= 50)\n",
    "\n",
    "#total_power constrain\n",
    "@constraint(m, low_power + high_power .<= 65)\n",
    "\n",
    "#flow constraints\n",
    "for i in 2:25\n",
    "    @constraint(m, out_flow[i] == low_power[i] + high_power[i] + out_flow[i-1] - demand[i-1])\n",
    "end\n",
    "\n",
    "#Remove battery constraint\n",
    "#@constraint(m, out_flow .<= battery_size)\n",
    "\n",
    "@objective(m, Min, sum(low_power) * 100 + sum(high_power) * 400)\n",
    "\n",
    "solve(m)\n"
   ]
  },
  {
   "cell_type": "markdown",
   "metadata": {},
   "source": [
    "The cost becomes"
   ]
  },
  {
   "cell_type": "code",
   "execution_count": 21,
   "metadata": {
    "collapsed": false
   },
   "outputs": [
    {
     "data": {
      "text/html": [
       "120000.0"
      ],
      "text/plain": [
       "120000.0"
      ]
     },
     "execution_count": 21,
     "metadata": {},
     "output_type": "execute_result"
    }
   ],
   "source": [
    "getobjectivevalue(m)"
   ]
  },
  {
   "cell_type": "markdown",
   "metadata": {},
   "source": [
    "So we save"
   ]
  },
  {
   "cell_type": "code",
   "execution_count": 22,
   "metadata": {
    "collapsed": false
   },
   "outputs": [
    {
     "data": {
      "text/html": [
       "32400.0"
      ],
      "text/plain": [
       "32400.0"
      ]
     },
     "execution_count": 22,
     "metadata": {},
     "output_type": "execute_result"
    }
   ],
   "source": [
    "152400 - 120000.0"
   ]
  },
  {
   "cell_type": "markdown",
   "metadata": {},
   "source": [
    "then the most capacity used by the battery at any time is "
   ]
  },
  {
   "cell_type": "code",
   "execution_count": 23,
   "metadata": {
    "collapsed": false
   },
   "outputs": [
    {
     "name": "stdout",
     "output_type": "stream",
     "text": [
      "108.0\n"
     ]
    }
   ],
   "source": [
    "power_drawn = getvalue(low_power) + getvalue(high_power)\n",
    "stored = 0\n",
    "max_stored = -1\n",
    "for i in 2:25\n",
    "    stored = stored +  power_drawn[i] - demand[i-1]\n",
    "    max_stored = max(max_stored, stored)\n",
    "end\n",
    "println(max_stored)"
   ]
  },
  {
   "cell_type": "markdown",
   "metadata": {},
   "source": [
    "## c."
   ]
  },
  {
   "cell_type": "code",
   "execution_count": 24,
   "metadata": {
    "collapsed": false
   },
   "outputs": [
    {
     "data": {
      "image/png": "[encoded data removed]",
      "text/plain": [
       "PyPlot.Figure(PyObject <matplotlib.figure.Figure object at 0x7f3735352c18>)"
      ]
     },
     "metadata": {},
     "output_type": "display_data"
    },
    {
     "data": {
      "text/plain": [
       "PyObject <matplotlib.legend.Legend object at 0x7f3735335c18>"
      ]
     },
     "execution_count": 24,
     "metadata": {},
     "output_type": "execute_result"
    }
   ],
   "source": [
    "demand = [43; 40; 36; 36; 35; 38; 41; 46; 49; 48; 47; 47;\n",
    "          48; 46; 45; 47; 50; 63; 75; 75; 72; 66; 57; 50]\n",
    "battery_size = 30\n",
    "m = Model()\n",
    "\n",
    "@variable(m, out_flow[1:25] >= 0)\n",
    "@variable(m, low_power[1:25] >=0)\n",
    "@variable(m, high_power[1:25] >= 0)\n",
    "\n",
    "#dummy constraints\n",
    "@constraint(m, low_power[1] == 0)\n",
    "@constraint(m, high_power[1] == 0)\n",
    "@constraint(m, out_flow[1] == 0)\n",
    "\n",
    "#low power constraint\n",
    "@constraint(m, low_power .<= 50)\n",
    "\n",
    "#total_power constrain\n",
    "@constraint(m, low_power + high_power .<= 65)\n",
    "\n",
    "#flow constraints\n",
    "for i in 2:25\n",
    "    @constraint(m, out_flow[i] == low_power[i] + high_power[i] + out_flow[i-1] - demand[i-1])\n",
    "end\n",
    "@constraint(m, out_flow .<= battery_size)\n",
    "@objective(m, Min, sum(low_power) * 100 + sum(high_power) * 400)\n",
    "\n",
    "solve(m)\n",
    "\n",
    "t = 1:24\n",
    "\n",
    "electricity_purchased = (getvalue(low_power) + getvalue(high_power))[2:25]\n",
    "\n",
    "battery_capacity_used = zeros(24)\n",
    "\n",
    "used = 0\n",
    "for i in 1:24\n",
    "    used = electricity_purchased[i] + used - demand[i]\n",
    "    battery_capacity_used[i] = used\n",
    "end\n",
    "\n",
    "\n",
    "plot(t,demand, label=\"Typical energy demand\")\n",
    "plot(t,electricity_purchased, label=\"Electricity Purchased\")\n",
    "plot(t, battery_capacity_used, label=\"Battery Capacity Used\")\n",
    "\n",
    "ylim(0,100)\n",
    "\n",
    "ylabel(\"MWh\")\n",
    "xlabel(\"Time of Day (Military)\")\n",
    "\n",
    "legend()\n"
   ]
  },
  {
   "cell_type": "markdown",
   "metadata": {},
   "source": [
    "## d."
   ]
  },
  {
   "cell_type": "markdown",
   "metadata": {},
   "source": [
    "The solution I found  for part a. was not unique. You can tell this from the plot above. I could have purchased more electricity around the 5 hour mark without going into high cost power and I could have stored it since I was well below 30 MWh of storage at that time. This extra storage could have replaced some of the electricity puchased around the 15 hour mark and still supplied the demand for the same cost. I could find another solution by constraing electricity purchased around the 15 hour mark to be less than 50 MWh, solving for the new problem and verifying that I get the same final cost as before.\n",
    "\n",
    "But in the solution for part b. there is only one unique solution. This is because the optimal solution has you purchasing 50 MWh each hour. This gives you the exact amount of electricity to supply the demand for the entire day. Any other parameter setting would cause you to start purchasing high cost power which would result in a non optimal solution."
   ]
  },
  {
   "cell_type": "code",
   "execution_count": null,
   "metadata": {
    "collapsed": true
   },
   "outputs": [],
   "source": []
  }
 ],
 "metadata": {
  "anaconda-cloud": {},
  "kernelspec": {
   "display_name": "Julia 0.5.0",
   "language": "julia",
   "name": "julia-0.5"
  },
  "language_info": {
   "file_extension": ".jl",
   "mimetype": "application/julia",
   "name": "julia",
   "version": "0.5.0"
  }
 },
 "nbformat": 4,
 "nbformat_minor": 1
}
