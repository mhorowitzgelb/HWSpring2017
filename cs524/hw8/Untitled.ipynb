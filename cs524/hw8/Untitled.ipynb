{
 "cells": [
  {
   "cell_type": "markdown",
   "metadata": {},
   "source": [
    "# Q1"
   ]
  },
  {
   "cell_type": "code",
   "execution_count": 1,
   "metadata": {},
   "outputs": [
    {
     "data": {
      "text/plain": [
       "10×2 Array{Int64,2}:\n",
       " 80   34\n",
       " 60   44\n",
       " 40   44\n",
       " 20   24\n",
       " 40  114\n",
       " 40   64\n",
       " 70   14\n",
       " 50   44\n",
       " 70   54\n",
       " 70   64"
      ]
     },
     "execution_count": 1,
     "metadata": {},
     "output_type": "execute_result"
    }
   ],
   "source": [
    "demographics = [80 34; 60 44; 40 44; 20 24; 40 114; 40 64; 70 14; 50 44; 70 54; 70 64]"
   ]
  },
  {
   "cell_type": "code",
   "execution_count": 12,
   "metadata": {},
   "outputs": [
    {
     "data": {
      "text/plain": [
       ":Optimal"
      ]
     },
     "execution_count": 12,
     "metadata": {},
     "output_type": "execute_result"
    }
   ],
   "source": [
    "using JuMP, Cbc\n",
    "m = Model(solver = CbcSolver())\n",
    "@variable(m, district[1:10, 1:5], Bin)\n",
    "@variable(m, dem_majority[1:5],Bin)\n",
    "\n",
    "#only one district per city\n",
    "for i in 1:10\n",
    "    @constraint(m, sum(district[i,:]) == 1)\n",
    "end\n",
    "\n",
    "#district size requirement\n",
    "for i in 1:5\n",
    "    @constraint(m, sum(district[:,i] .* (demographics * [1; 1])) >= 150)\n",
    "    @constraint(m, sum(district[:,i] .* (demographics * [1; 1])) <= 250)\n",
    "end\n",
    "\n",
    "#define dem majority\n",
    "for i in 1:5\n",
    "    # z(dem - rep - 1) >= 0\n",
    "    @constraint(m, (dot(district[:,i] , \n",
    "                demographics[:,2]) - dot(district[:,i] , demographics[:,1]) - 1) >= (1 -dem_majority[i]) * -1000)\n",
    "end\n",
    "\n",
    "#maximize majorities\n",
    "@objective(m, Max, sum(dem_majority))\n",
    "\n",
    "solve(m)\n",
    "\n"
   ]
  },
  {
   "cell_type": "code",
   "execution_count": 14,
   "metadata": {},
   "outputs": [
    {
     "name": "stdout",
     "output_type": "stream",
     "text": [
      "Blue aquires the best of gerrymander by having democratic majority in 3.0 districts, which is achieved by,\n",
      "Giving city 1 to district 5\n",
      "Giving city 2 to district 5\n",
      "Giving city 3 to district 2\n",
      "Giving city 4 to district 2\n",
      "Giving city 5 to district 1\n",
      "Giving city 6 to district 4\n",
      "Giving city 7 to district 3\n",
      "Giving city 8 to district 2\n",
      "Giving city 9 to district 4\n"
     ]
    }
   ],
   "source": [
    "println(\"Blue aquires the best of gerrymander by having democratic majority in \", getobjectivevalue(m) , \n",
    "    \" districts, which is achieved by,\" )\n",
    "\n",
    "district_vals = getvalue(district)\n",
    "for i in 1:10\n",
    "    for j in 1:5\n",
    "        if district_vals[i,j] == 1\n",
    "            println(\"Giving city \" , i, \" to district \", j)\n",
    "        end\n",
    "    end\n",
    "end"
   ]
  },
  {
   "cell_type": "markdown",
   "metadata": {},
   "source": [
    "# Q2"
   ]
  },
  {
   "cell_type": "code",
   "execution_count": 15,
   "metadata": {},
   "outputs": [
    {
     "data": {
      "text/plain": [
       "5×5 Array{Int64,2}:\n",
       "  0  11   7  13  11\n",
       "  5   0  13  15  15\n",
       " 13  15   0  23  11\n",
       "  9  13   5   0   3\n",
       "  3   7   7   7   0"
      ]
     },
     "execution_count": 15,
     "metadata": {},
     "output_type": "execute_result"
    }
   ],
   "source": [
    "#Define cost matrix\n",
    "A = [0 11 7 13 11; 5 0 13 15 15; 13 15 0 23 11; 9 13 5 0 3; 3 7 7 7 0]"
   ]
  },
  {
   "cell_type": "code",
   "execution_count": 17,
   "metadata": {},
   "outputs": [
    {
     "data": {
      "text/plain": [
       ":Optimal"
      ]
     },
     "execution_count": 17,
     "metadata": {},
     "output_type": "execute_result"
    }
   ],
   "source": [
    "m = Model(solver = CbcSolver())\n",
    "\n",
    "#transitions used\n",
    "@variable(m, x[1:5,1:5], Bin)\n",
    "\n",
    "#ordering\n",
    "@variable(m, u[1:5] >= 1, Int)\n",
    "\n",
    "#1 incoming and outgoin edge\n",
    "# and no transitioning to yourself\n",
    "for i in 1:5\n",
    "    @constraint(m, sum(x[i,:]) == 1)\n",
    "    @constraint(m, sum(x[:,i]) == 1)\n",
    "    @constraint(m, x[i,i] == 0)\n",
    "end\n",
    "\n",
    "#keep ordering as indexes\n",
    "@constraint(m, u .<= 5)\n",
    "\n",
    "#ordering implies transitions\n",
    "for i in 1:5\n",
    "    for j in 2:5\n",
    "        @constraint(m, u[i] - u[j] + 5*x[i,j] <= 5-1)\n",
    "    end\n",
    "end\n",
    "\n",
    "#minimize cost of cleaning time. \n",
    "#The making time is constant regardless of ordering so it doesn't matter\n",
    "@objective(m, Min, sum(x.* A))\n",
    "solve(m)"
   ]
  },
  {
   "cell_type": "code",
   "execution_count": 19,
   "metadata": {},
   "outputs": [
    {
     "name": "stdout",
     "output_type": "stream",
     "text": [
      "The optimal strategy which only requires only 41.0 minutes of cleaning has the paints done in this order\n",
      "[1.0,5.0,3.0,2.0,4.0]\n"
     ]
    }
   ],
   "source": [
    "println(\"The optimal strategy which only requires only \", getobjectivevalue(m),\n",
    "    \" minutes of cleaning has the paints done in this order\")\n",
    "println(getvalue(u))"
   ]
  },
  {
   "cell_type": "markdown",
   "metadata": {},
   "source": [
    "# Q3\n",
    "## a"
   ]
  },
  {
   "cell_type": "code",
   "execution_count": 31,
   "metadata": {},
   "outputs": [
    {
     "data": {
      "text/plain": [
       ":Optimal"
      ]
     },
     "execution_count": 31,
     "metadata": {},
     "output_type": "execute_result"
    }
   ],
   "source": [
    "m = Model(solver = CbcSolver())\n",
    "\n",
    "#Chess board\n",
    "@variable(m, board[1:8, 1:8], Bin)\n",
    "\n",
    "#exactly 8 pieces\n",
    "@constraint(m, sum(board) == 8)\n",
    "\n",
    "#row col threaten constraint\n",
    "for i in 1:8\n",
    "    @constraint(m, sum(board[:,i]) <= 1)\n",
    "    @constraint(m, sum(board[i,:]) <= 1)\n",
    "end\n",
    "\n",
    "#diagonal\n",
    "for i in 1:8\n",
    "    @constraint(m, sum(Diagonal(board[i:8,:])) <= 1)\n",
    "    @constraint(m, sum(Diagonal(board[:,i:8])) <= 1)\n",
    "    @constraint(m, sum(Diagonal(board[i:8,end:-1:1])) <= 1)\n",
    "    @constraint(m, sum(Diagonal(board[:,i:-1:1])) <= 1)\n",
    "end\n",
    "solve(m)"
   ]
  },
  {
   "cell_type": "code",
   "execution_count": 32,
   "metadata": {},
   "outputs": [
    {
     "name": "stdout",
     "output_type": "stream",
     "text": [
      "Valid Board\n",
      ". . . . . . . x \n",
      ". x . . . . . . \n",
      ". . . x . . . . \n",
      "x . . . . . . . \n",
      ". . . . . . x . \n",
      ". . . . x . . . \n",
      ". . x . . . . . \n",
      ". . . . . x . . \n"
     ]
    }
   ],
   "source": [
    "println(\"Valid Board\")\n",
    "board_val = getvalue(board)\n",
    "for i in 1:8\n",
    "    for j in 1:8\n",
    "        if board_val[i,j] == 1\n",
    "            print(\"x \")\n",
    "        else\n",
    "            print(\". \")\n",
    "        end\n",
    "    end\n",
    "    println()\n",
    "end"
   ]
  },
  {
   "cell_type": "markdown",
   "metadata": {},
   "source": [
    "## b"
   ]
  },
  {
   "cell_type": "code",
   "execution_count": 35,
   "metadata": {},
   "outputs": [
    {
     "data": {
      "text/plain": [
       ":Optimal"
      ]
     },
     "execution_count": 35,
     "metadata": {},
     "output_type": "execute_result"
    }
   ],
   "source": [
    "m = Model(solver = CbcSolver())\n",
    "\n",
    "#Chess board\n",
    "@variable(m, board[1:8, 1:8], Bin)\n",
    "\n",
    "#exactly 8 pieces\n",
    "@constraint(m, sum(board) == 8)\n",
    "\n",
    "#row col threaten constraint\n",
    "for i in 1:8\n",
    "    @constraint(m, sum(board[:,i]) <= 1)\n",
    "    @constraint(m, sum(board[i,:]) <= 1)\n",
    "end\n",
    "\n",
    "#diagonal\n",
    "for i in 1:8\n",
    "    @constraint(m, sum(Diagonal(board[i:8,:])) <= 1)\n",
    "    @constraint(m, sum(Diagonal(board[:,i:8])) <= 1)\n",
    "    @constraint(m, sum(Diagonal(board[i:8,end:-1:1])) <= 1)\n",
    "    @constraint(m, sum(Diagonal(board[:,i:-1:1])) <= 1)\n",
    "end\n",
    "\n",
    "# symmetry\n",
    "for i in 1:8\n",
    "    for j in 1:8\n",
    "        @constraint(m, board[i,j] == board[8 - i + 1, 8 - j + 1])\n",
    "    end\n",
    "end\n",
    "solve(m)"
   ]
  },
  {
   "cell_type": "code",
   "execution_count": 36,
   "metadata": {},
   "outputs": [
    {
     "name": "stdout",
     "output_type": "stream",
     "text": [
      "Valid Board\n",
      ". . . x . . . . \n",
      ". . . . . x . . \n",
      ". . . . . . . x \n",
      ". x . . . . . . \n",
      ". . . . . . x . \n",
      "x . . . . . . . \n",
      ". . x . . . . . \n",
      ". . . . x . . . \n"
     ]
    }
   ],
   "source": [
    "println(\"Valid Board\")\n",
    "board_val = getvalue(board)\n",
    "for i in 1:8\n",
    "    for j in 1:8\n",
    "        if board_val[i,j] == 1\n",
    "            print(\"x \")\n",
    "        else\n",
    "            print(\". \")\n",
    "        end\n",
    "    end\n",
    "    println()\n",
    "end"
   ]
  },
  {
   "cell_type": "markdown",
   "metadata": {},
   "source": [
    "## c"
   ]
  },
  {
   "cell_type": "code",
   "execution_count": 38,
   "metadata": {},
   "outputs": [
    {
     "data": {
      "text/plain": [
       ":Optimal"
      ]
     },
     "execution_count": 38,
     "metadata": {},
     "output_type": "execute_result"
    }
   ],
   "source": [
    "m = Model(solver = CbcSolver())\n",
    "\n",
    "#Chess board\n",
    "@variable(m, board[1:8, 1:8], Bin)\n",
    "\n",
    "\n",
    "\n",
    "#row col are covered\n",
    "for i in 1:8\n",
    "    @constraint(m, sum(board[:,i]) >= 1)\n",
    "    @constraint(m, sum(board[i,:]) >= 1)\n",
    "end\n",
    "\n",
    "#diagonals are covered\n",
    "for i in 1:8\n",
    "    @constraint(m, sum(Diagonal(board[i:8,:])) >= 1)\n",
    "    @constraint(m, sum(Diagonal(board[:,i:8])) >= 1)\n",
    "    @constraint(m, sum(Diagonal(board[i:8,end:-1:1])) >= 1)\n",
    "    @constraint(m, sum(Diagonal(board[:,i:-1:1])) >= 1)\n",
    "end\n",
    "\n",
    "@objective(m, Min, sum(board))\n",
    "\n",
    "\n",
    "solve(m)"
   ]
  },
  {
   "cell_type": "code",
   "execution_count": 40,
   "metadata": {},
   "outputs": [
    {
     "name": "stdout",
     "output_type": "stream",
     "text": [
      "The smallest number of queens to threaten the whole board is 16.0\n",
      "And a board that accomplishes this is,\n",
      "x . x . x . x x \n",
      "x . . . . . . . \n",
      ". . . . . . . x \n",
      "x . . . . . . . \n",
      ". . . . . . . x \n",
      "x . . . . . . . \n",
      ". . . . . . . x \n",
      "x x . x . x . x \n"
     ]
    }
   ],
   "source": [
    "println(\"The smallest number of queens to threaten the whole board is \", getobjectivevalue(m))\n",
    "println(\"And a board that accomplishes this is,\")\n",
    "board_val = getvalue(board)\n",
    "for i in 1:8\n",
    "    for j in 1:8\n",
    "        if board_val[i,j] == 1\n",
    "            print(\"x \")\n",
    "        else\n",
    "            print(\". \")\n",
    "        end\n",
    "    end\n",
    "    println()\n",
    "end\n"
   ]
  },
  {
   "cell_type": "markdown",
   "metadata": {},
   "source": [
    "## d"
   ]
  },
  {
   "cell_type": "code",
   "execution_count": 42,
   "metadata": {},
   "outputs": [
    {
     "data": {
      "text/plain": [
       ":Optimal"
      ]
     },
     "execution_count": 42,
     "metadata": {},
     "output_type": "execute_result"
    }
   ],
   "source": [
    "m = Model(solver = CbcSolver())\n",
    "\n",
    "#Chess board\n",
    "@variable(m, board[1:8, 1:8], Bin)\n",
    "\n",
    "\n",
    "\n",
    "#row col are covered\n",
    "for i in 1:8\n",
    "    @constraint(m, sum(board[:,i]) >= 1)\n",
    "    @constraint(m, sum(board[i,:]) >= 1)\n",
    "end\n",
    "\n",
    "#diagonals are covered\n",
    "for i in 1:8\n",
    "    @constraint(m, sum(Diagonal(board[i:8,:])) >= 1)\n",
    "    @constraint(m, sum(Diagonal(board[:,i:8])) >= 1)\n",
    "    @constraint(m, sum(Diagonal(board[i:8,end:-1:1])) >= 1)\n",
    "    @constraint(m, sum(Diagonal(board[:,i:-1:1])) >= 1)\n",
    "end\n",
    "\n",
    "# symmetry\n",
    "for i in 1:8\n",
    "    for j in 1:8\n",
    "        @constraint(m, board[i,j] == board[8 - i + 1, 8 - j + 1])\n",
    "    end\n",
    "end\n",
    "\n",
    "@objective(m, Min, sum(board))\n",
    "\n",
    "\n",
    "solve(m)"
   ]
  },
  {
   "cell_type": "code",
   "execution_count": 43,
   "metadata": {},
   "outputs": [
    {
     "name": "stdout",
     "output_type": "stream",
     "text": [
      "The smallest number of queens to threaten the whole board is while having symmetry is 16.0\n",
      "And a board that accomplishes this is,\n",
      "x . . x . x x x \n",
      "x . . . . . . . \n",
      "x . . . . . . . \n",
      ". . . . . . . x \n",
      "x . . . . . . . \n",
      ". . . . . . . x \n",
      ". . . . . . . x \n",
      "x x x . x . . x \n"
     ]
    }
   ],
   "source": [
    "println(\"The smallest number of queens to threaten the whole board is while having symmetry is \", getobjectivevalue(m))\n",
    "println(\"And a board that accomplishes this is,\")\n",
    "board_val = getvalue(board)\n",
    "for i in 1:8\n",
    "    for j in 1:8\n",
    "        if board_val[i,j] == 1\n",
    "            print(\"x \")\n",
    "        else\n",
    "            print(\". \")\n",
    "        end\n",
    "    end\n",
    "    println()\n",
    "end"
   ]
  },
  {
   "cell_type": "markdown",
   "metadata": {},
   "source": [
    "This is the same number of pieces as without the symmetry constraint"
   ]
  },
  {
   "cell_type": "code",
   "execution_count": null,
   "metadata": {
    "collapsed": true
   },
   "outputs": [],
   "source": []
  }
 ],
 "metadata": {
  "kernelspec": {
   "display_name": "Julia 0.5.1",
   "language": "julia",
   "name": "julia-0.5"
  },
  "language_info": {
   "file_extension": ".jl",
   "mimetype": "application/julia",
   "name": "julia",
   "version": "0.5.1"
  }
 },
 "nbformat": 4,
 "nbformat_minor": 2
}
