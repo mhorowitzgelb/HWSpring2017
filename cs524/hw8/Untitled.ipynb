{
 "cells": [
  {
   "cell_type": "markdown",
   "metadata": {},
   "source": [
    "# Q1"
   ]
  },
  {
   "cell_type": "code",
   "execution_count": 1,
   "metadata": {},
   "outputs": [
    {
     "data": {
      "text/plain": [
       "10×2 Array{Int64,2}:\n",
       " 80   34\n",
       " 60   44\n",
       " 40   44\n",
       " 20   24\n",
       " 40  114\n",
       " 40   64\n",
       " 70   14\n",
       " 50   44\n",
       " 70   54\n",
       " 70   64"
      ]
     },
     "execution_count": 1,
     "metadata": {},
     "output_type": "execute_result"
    }
   ],
   "source": [
    "demographics = [80 34; 60 44; 40 44; 20 24; 40 114; 40 64; 70 14; 50 44; 70 54; 70 64]"
   ]
  },
  {
   "cell_type": "code",
   "execution_count": 12,
   "metadata": {},
   "outputs": [
    {
     "data": {
      "text/plain": [
       ":Optimal"
      ]
     },
     "execution_count": 12,
     "metadata": {},
     "output_type": "execute_result"
    }
   ],
   "source": [
    "using JuMP, Cbc\n",
    "m = Model(solver = CbcSolver())\n",
    "@variable(m, district[1:10, 1:5], Bin)\n",
    "@variable(m, dem_majority[1:5],Bin)\n",
    "\n",
    "#only one district per city\n",
    "for i in 1:10\n",
    "    @constraint(m, sum(district[i,:]) == 1)\n",
    "end\n",
    "\n",
    "#district size requirement\n",
    "for i in 1:5\n",
    "    @constraint(m, sum(district[:,i] .* (demographics * [1; 1])) >= 150)\n",
    "    @constraint(m, sum(district[:,i] .* (demographics * [1; 1])) <= 250)\n",
    "end\n",
    "\n",
    "#define dem majority\n",
    "for i in 1:5\n",
    "    # z(dem - rep - 1) >= 0\n",
    "    @constraint(m, (dot(district[:,i] , \n",
    "                demographics[:,2]) - dot(district[:,i] , demographics[:,1]) - 1) >= (1 -dem_majority[i]) * -1000)\n",
    "end\n",
    "\n",
    "#maximize majorities\n",
    "@objective(m, Max, sum(dem_majority))\n",
    "\n",
    "solve(m)\n",
    "\n"
   ]
  },
  {
   "cell_type": "code",
   "execution_count": 14,
   "metadata": {},
   "outputs": [
    {
     "name": "stdout",
     "output_type": "stream",
     "text": [
      "Blue aquires the best of gerrymander by having democratic majority in 3.0 districts, which is achieved by,\n",
      "Giving city 1 to district 5\n",
      "Giving city 2 to district 5\n",
      "Giving city 3 to district 2\n",
      "Giving city 4 to district 2\n",
      "Giving city 5 to district 1\n",
      "Giving city 6 to district 4\n",
      "Giving city 7 to district 3\n",
      "Giving city 8 to district 2\n",
      "Giving city 9 to district 4\n"
     ]
    }
   ],
   "source": [
    "println(\"Blue aquires the best of gerrymander by having democratic majority in \", getobjectivevalue(m) , \n",
    "    \" districts, which is achieved by,\" )\n",
    "\n",
    "district_vals = getvalue(district)\n",
    "for i in 1:10\n",
    "    for j in 1:5\n",
    "        if district_vals[i,j] == 1\n",
    "            println(\"Giving city \" , i, \" to district \", j)\n",
    "        end\n",
    "    end\n",
    "end"
   ]
  },
  {
   "cell_type": "code",
   "execution_count": null,
   "metadata": {
    "collapsed": true
   },
   "outputs": [],
   "source": []
  }
 ],
 "metadata": {
  "kernelspec": {
   "display_name": "Julia 0.5.1",
   "language": "julia",
   "name": "julia-0.5"
  },
  "language_info": {
   "file_extension": ".jl",
   "mimetype": "application/julia",
   "name": "julia",
   "version": "0.5.1"
  }
 },
 "nbformat": 4,
 "nbformat_minor": 2
}
