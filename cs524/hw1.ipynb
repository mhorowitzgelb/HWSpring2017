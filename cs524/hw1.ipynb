{
 "cells": [
  {
   "cell_type": "markdown",
   "metadata": {},
   "source": [
    "## Question 1"
   ]
  },
  {
   "cell_type": "code",
   "execution_count": 6,
   "metadata": {
    "collapsed": false
   },
   "outputs": [
    {
     "name": "stderr",
     "output_type": "stream",
     "text": [
      "\u001b[1m\u001b[34mINFO: Precompiling module SCS.\n",
      "\u001b[0m"
     ]
    },
    {
     "data": {
      "text/latex": [
       "$$ 5 x1 - x2 + 11 x3 $$"
      ],
      "text/plain": [
       "5 x1 - x2 + 11 x3"
      ]
     },
     "execution_count": 6,
     "metadata": {},
     "output_type": "execute_result"
    }
   ],
   "source": [
    "using JuMP, Clp, ECOS, SCS\n",
    "m = Model()\n",
    "@variable(m, 0 <= x1 <= 3)\n",
    "@variable(m, 0 <= x2 <= 3)\n",
    "@variable(m, 0 <= x3 <= 3)\n",
    "\n",
    "@constraint(m, 2x1 >= x2 + x3)\n",
    "@objective(m, Max, 5x1 - x2 + 11x3)\n"
   ]
  },
  {
   "cell_type": "markdown",
   "metadata": {},
   "source": [
    "### Solve using Clp"
   ]
  },
  {
   "cell_type": "code",
   "execution_count": 14,
   "metadata": {
    "collapsed": false
   },
   "outputs": [
    {
     "name": "stdout",
     "output_type": "stream",
     "text": [
      "  0.000658 seconds (98 allocations: 6.109 KB)\n"
     ]
    },
    {
     "data": {
      "text/plain": [
       "48.0"
      ]
     },
     "execution_count": 14,
     "metadata": {},
     "output_type": "execute_result"
    }
   ],
   "source": [
    "setsolver(m, ClpSolver())\n",
    "@time(solve(m))\n",
    "getobjectivevalue(m)"
   ]
  },
  {
   "cell_type": "markdown",
   "metadata": {},
   "source": [
    "### Solve using ECOS"
   ]
  },
  {
   "cell_type": "code",
   "execution_count": 13,
   "metadata": {
    "collapsed": false
   },
   "outputs": [
    {
     "name": "stdout",
     "output_type": "stream",
     "text": [
      "  2.014500 seconds (1.78 M allocations: 66.719 MB, 1.86% gc time)\n",
      "\n",
      "ECOS 2.0.5 - (C) embotech GmbH, Zurich Switzerland, 2012-15. Web: www.embotech.com/ECOS\n",
      "\n",
      "It     pcost       dcost      gap   pres   dres    k/t    mu     step   sigma     IR    |   BT\n",
      " 0  -2.250e+01  -8.440e+01  +1e+02  2e-01  3e-01  1e+00  1e+01    ---    ---    1  1  - |  -  - \n",
      " 1  -4.615e+01  -5.603e+01  +2e+01  2e-02  6e-02  7e-01  3e+00  0.8410  6e-02   0  0  0 |  0  0\n",
      " 2  -4.726e+01  -4.850e+01  +3e+00  3e-03  8e-03  2e-01  4e-01  0.9283  7e-02   0  0  0 |  0  0\n",
      " 3  -4.799e+01  -4.803e+01  +8e-02  1e-04  2e-04  7e-03  1e-02  0.9798  9e-03   1  0  0 |  0  0\n",
      " 4  -4.800e+01  -4.800e+01  +9e-04  1e-06  3e-06  8e-05  1e-04  0.9890  1e-04   1  0  0 |  0  0\n",
      " 5  -4.800e+01  -4.800e+01  +9e-06  1e-08  3e-08  9e-07  1e-06  0.9890  1e-04   1  0  0 |  0  0\n",
      " 6  -4.800e+01  -4.800e+01  +1e-07  1e-10  3e-10  1e-08  1e-08  0.9890  1e-04   1  0  0 |  0  0\n",
      "\n",
      "OPTIMAL (within feastol=3.3e-10, reltol=2.2e-09, abstol=1.0e-07).\n",
      "Runtime: 0.000135 seconds.\n",
      "\n"
     ]
    },
    {
     "data": {
      "text/plain": [
       "47.999999986810174"
      ]
     },
     "execution_count": 13,
     "metadata": {},
     "output_type": "execute_result"
    }
   ],
   "source": [
    "setsolver(m, ECOSSolver())\n",
    "@time(solve(m))\n",
    "getobjectivevalue(m)"
   ]
  },
  {
   "cell_type": "markdown",
   "metadata": {},
   "source": [
    "### Solve using SCS"
   ]
  },
  {
   "cell_type": "code",
   "execution_count": 15,
   "metadata": {
    "collapsed": false
   },
   "outputs": [
    {
     "name": "stdout",
     "output_type": "stream",
     "text": [
      "  2.099890 seconds (1.29 M allocations: 51.083 MB, 1.08% gc time)\n",
      "----------------------------------------------------------------------------\n",
      "\tSCS v1.1.8 - Splitting Conic Solver\n",
      "\t(c) Brendan O'Donoghue, Stanford University, 2012-2015\n",
      "----------------------------------------------------------------------------\n",
      "Lin-sys: sparse-direct, nnz in A = 9\n",
      "eps = 1.00e-04, alpha = 1.80, max_iters = 20000, normalize = 1, scale = 5.00\n",
      "Variables n = 3, constraints m = 7\n",
      "Cones:\tlinear vars: 7\n",
      "Setup time: 4.75e-05s\n",
      "----------------------------------------------------------------------------\n",
      " Iter | pri res | dua res | rel gap | pri obj | dua obj | kap/tau | time (s)\n",
      "----------------------------------------------------------------------------\n",
      "     0|      inf       inf      -nan      -inf      -nan       inf  3.08e-05 \n",
      "   100| 8.00e-05  1.91e-04  8.48e-06 -4.80e+01 -4.80e+01  2.69e-15  9.45e-05 \n",
      "   140| 4.49e-06  2.70e-06  1.09e-07 -4.80e+01 -4.80e+01  0.00e+00  1.21e-04 \n",
      "----------------------------------------------------------------------------\n",
      "Status: Solved\n",
      "Timing: Solve time: 1.23e-04s\n",
      "\tLin-sys: nnz in L factor: 19, avg solve time: 1.88e-07s\n",
      "\tCones: avg projection time: 8.32e-08s\n",
      "----------------------------------------------------------------------------\n",
      "Error metrics:\n",
      "dist(s, K) = 1.3565e-17, dist(y, K*) = 0.0000e+00, s'y/m = -9.2050e-18\n",
      "|Ax + s - b|_2 / (1 + |b|_2) = 4.4865e-06\n",
      "|A'y + c|_2 / (1 + |c|_2) = 2.7040e-06\n",
      "|c'x + b'y| / (1 + |c'x| + |b'y|) = 1.0946e-07\n",
      "----------------------------------------------------------------------------\n",
      "c'x = -48.0001, -b'y = -48.0001\n",
      "============================================================================\n"
     ]
    },
    {
     "data": {
      "text/plain": [
       "48.00006780505256"
      ]
     },
     "execution_count": 15,
     "metadata": {},
     "output_type": "execute_result"
    }
   ],
   "source": [
    "setsolver(m, SCSSolver())\n",
    "@time(solve(m))\n",
    "getobjectivevalue(m)"
   ]
  },
  {
   "cell_type": "markdown",
   "metadata": {},
   "source": [
    "### Analysis\n",
    "The CLP solver is by far the most accurate and fastest of the three solvers. This is probably because it is designed to solve only linear programs, while the other two solvers are more generic and can solve both linear programs and second order cone programs. (Note the SCS solver gets a higher objective value than CLP, but CLP found an optimal solution. This comes from numerical error causing SCS to find an infeasible solution)"
   ]
  },
  {
   "cell_type": "markdown",
   "metadata": {},
   "source": [
    "x3 is in the infeasible region"
   ]
  },
  {
   "cell_type": "code",
   "execution_count": 20,
   "metadata": {
    "collapsed": false
   },
   "outputs": [
    {
     "data": {
      "text/plain": [
       "3.0000130627112176"
      ]
     },
     "execution_count": 20,
     "metadata": {},
     "output_type": "execute_result"
    }
   ],
   "source": [
    "getvalue(x3)"
   ]
  },
  {
   "cell_type": "markdown",
   "metadata": {},
   "source": [
    "## Question 2"
   ]
  },
  {
   "cell_type": "markdown",
   "metadata": {},
   "source": [
    "### a)\n",
    "#### Transformed model:\n",
    "$A = \\begin{bmatrix}\n",
    "1 & 0 & 0 \\\\\n",
    "0 & 1 & 0 \\\\\n",
    "0 & 0 & 1 \\\\\n",
    "\\end{bmatrix}$\n",
    "\n",
    "Since $z_1$ is unconstrained, we redefine it as $z_1 = y - w$ where $y \\geq 0 , w \\geq 0$\n",
    "Then to make all the rest of the variables non-negative, we simply shift there value.\n",
    "\n",
    "$z'_2 = z_2 + 1$\n",
    "\n",
    "$z'_3 = z_3 + 1$\n",
    "\n",
    "$z'_4 = z_4 + 2$\n",
    "\n",
    "Then we turn the rest of the constraints into equalities using non-negative surplus and slack variables.\n",
    "\n",
    "$-y + w + 6z'_2 - z'_3 + z'_4 - s_1 = 4$\n",
    "\n",
    "$z'_3 + z'_4 + s_2 = 5$\n",
    "\n",
    "$z'_2 + s_3 = 6$\n",
    "\n",
    "$z'_3 + s_4 = 6$\n",
    "\n",
    "$z'_4 + s_5 = 4$"
   ]
  },
  {
   "cell_type": "markdown",
   "metadata": {},
   "source": [
    "$$\n",
    "\\alpha =1 \n",
    "$$"
   ]
  },
  {
   "cell_type": "code",
   "execution_count": null,
   "metadata": {
    "collapsed": true
   },
   "outputs": [],
   "source": []
  },
  {
   "cell_type": "markdown",
   "metadata": {},
   "source": [
    "### b)"
   ]
  },
  {
   "cell_type": "markdown",
   "metadata": {},
   "source": [
    "#### Solving in non standard form"
   ]
  },
  {
   "cell_type": "code",
   "execution_count": 26,
   "metadata": {
    "collapsed": false
   },
   "outputs": [
    {
     "data": {
      "text/plain": [
       ":Optimal"
      ]
     },
     "execution_count": 26,
     "metadata": {},
     "output_type": "execute_result"
    }
   ],
   "source": [
    "ns_m = Model()\n",
    "@variable(ns_m, z1)\n",
    "@variable(ns_m, -1 <= z2 <= 5)\n",
    "@variable(ns_m, -1 <= z3 <= 5)\n",
    "@variable(ns_m, -2 <= z4 <= 2)\n",
    "@constraint(ns_m, -z1 + 6z2  - z3 + z4 >= -3)\n",
    "@constraint(ns_m, 7z2 + z4 == 5)\n",
    "@constraint(ns_m, z3 + z4 <= 2)\n",
    "@objective(ns_m, Max, 3z1 - z2)\n",
    "solve(ns_m)"
   ]
  },
  {
   "cell_type": "code",
   "execution_count": 29,
   "metadata": {
    "collapsed": false
   },
   "outputs": [
    {
     "name": "stdout",
     "output_type": "stream",
     "text": [
      "z1 = 8.571428571428571\n",
      "z2 = 0.42857142857142855\n",
      "z3 = -1.0\n",
      "z4 = 2.0\n",
      "objective = 48.00006780505256\n"
     ]
    }
   ],
   "source": [
    "println(\"z1 = \", getvalue(z1))\n",
    "println(\"z2 = \", getvalue(z2))\n",
    "println(\"z3 = \", getvalue(z3))\n",
    "println(\"z4 = \", getvalue(z4))\n",
    "println(\"objective = \", getobjectivevalue(m))"
   ]
  },
  {
   "cell_type": "markdown",
   "metadata": {},
   "source": [
    "#### Solving standard form"
   ]
  },
  {
   "cell_type": "code",
   "execution_count": null,
   "metadata": {
    "collapsed": true
   },
   "outputs": [],
   "source": [
    "A = [\n",
    "-1 1 6 -1 1 -1\n",
    "    \n",
    "]\n",
    "b = [5;]"
   ]
  },
  {
   "cell_type": "markdown",
   "metadata": {},
   "source": [
    "## Question 3"
   ]
  }
 ],
 "metadata": {
  "anaconda-cloud": {},
  "kernelspec": {
   "display_name": "Julia 0.5.0",
   "language": "julia",
   "name": "julia-0.5"
  },
  "language_info": {
   "file_extension": ".jl",
   "mimetype": "application/julia",
   "name": "julia",
   "version": "0.5.0"
  }
 },
 "nbformat": 4,
 "nbformat_minor": 1
}
