{
 "cells": [
  {
   "cell_type": "markdown",
   "metadata": {},
   "source": [
    "# Q1"
   ]
  },
  {
   "cell_type": "code",
   "execution_count": 3,
   "metadata": {
    "collapsed": false
   },
   "outputs": [
    {
     "data": {
      "text/plain": [
       "50×2 Array{Float64,2}:\n",
       " 5.8296   1.64292\n",
       " 4.95701  3.65764\n",
       " 5.76867  4.31585\n",
       " 3.64598  4.20429\n",
       " 3.68406  2.69729\n",
       " 4.84996  4.40859\n",
       " 4.05158  4.08015\n",
       " 4.98992  4.21203\n",
       " 4.34501  4.73541\n",
       " 4.72348  3.92193\n",
       " 3.77694  3.18372\n",
       " 3.74107  2.4559 \n",
       " 4.22863  3.91556\n",
       " ⋮               \n",
       " 5.41411  3.70214\n",
       " 4.05269  4.67273\n",
       " 3.74221  4.8911 \n",
       " 3.6516   4.34578\n",
       " 4.5049   4.77525\n",
       " 5.06263  4.26175\n",
       " 3.32475  4.65989\n",
       " 3.05881  6.48064\n",
       " 4.754    3.27586\n",
       " 1.14641  4.26447\n",
       " 2.17997  4.46193\n",
       " 4.30335  3.06859"
      ]
     },
     "execution_count": 3,
     "metadata": {},
     "output_type": "execute_result"
    }
   ],
   "source": [
    "#Generate random matrix\n",
    "X = 4 + randn(50,2)"
   ]
  },
  {
   "cell_type": "markdown",
   "metadata": {},
   "source": [
    "I model this optimization problem by solving for two variables. **r_squared** which is the squared radius of the circle and **center**, which is the center position of the circle. I then make the constraint that every point in X must have a distance squared from the center less than or equal to **r_squared**. I then make my objective to minimize **r_squared**. Since **center** is a free variable and I minimize **r_squared**, then I minimize the area of the circle defined by **r_squared** as much as possible while still containing all the points. Also note that I use the square of the radius as a variable, since if I used the radius as a variable then the problem has a Q matrix that is not Positive Semi Definite."
   ]
  },
  {
   "cell_type": "code",
   "execution_count": 10,
   "metadata": {
    "collapsed": false
   },
   "outputs": [
    {
     "name": "stdout",
     "output_type": "stream",
     "text": [
      "Optimize a model with 0 rows, 3 columns and 0 nonzeros\n",
      "Model has 50 quadratic constraints\n",
      "Coefficient statistics:\n",
      "  Matrix range     [0e+00, 0e+00]\n",
      "  QMatrix range    [1e+00, 1e+01]\n",
      "  Objective range  [1e+00, 1e+00]\n",
      "  Bounds range     [0e+00, 0e+00]\n",
      "  RHS range        [0e+00, 0e+00]\n",
      "Presolve time: 0.00s\n",
      "Presolved: 198 rows, 201 columns, 496 nonzeros\n",
      "Presolved model has 50 second-order cone constraints\n",
      "Ordering time: 0.00s\n",
      "\n",
      "Barrier statistics:\n",
      " Dense cols : 4\n",
      " AA' NZ     : 6.920e+02\n",
      " Factor NZ  : 1.295e+03\n",
      " Factor Ops : 8.617e+03 (less than 1 second per iteration)\n",
      " Threads    : 1\n",
      "\n",
      "                  Objective                Residual\n",
      "Iter       Primal          Dual         Primal    Dual     Compl     Time\n",
      "   0   1.23489570e+02  0.00000000e+00  2.64e+01 1.05e-01  1.07e+00     0s\n",
      "   1   1.93997751e+01  1.16871692e+00  3.11e+00 4.17e-03  1.21e-01     0s\n",
      "   2   3.33767723e+00  1.21090681e+00  5.67e-01 2.82e-03  2.57e-02     0s\n",
      "   3   3.01939699e+00  1.04352691e+00  5.06e-01 5.48e-04  1.74e-02     0s\n",
      "   4   5.46680165e+00  6.22362984e+00  3.88e-01 2.28e-04  1.31e-02     0s\n",
      "   5   6.29047785e+00  6.65503643e+00  1.97e-01 1.22e-04  7.39e-03     0s\n",
      "   6   7.88807880e+00  7.59231829e+00  5.07e-02 5.29e-06  4.76e-03     0s\n",
      "   7   8.98580954e+00  8.50067565e+00  8.48e-06 1.99e-06  2.42e-03     0s\n",
      "   8   8.76935329e+00  8.70350758e+00  9.82e-09 4.83e-07  3.30e-04     0s\n",
      "   9   8.76710227e+00  8.76380103e+00  3.34e-07 6.99e-09  1.64e-05     0s\n",
      "  10   8.76626818e+00  8.76593832e+00  3.68e-13 4.91e-12  1.64e-06     0s\n",
      "  11   8.76612571e+00  8.76610556e+00  4.44e-14 1.43e-12  1.00e-07     0s\n",
      "  12   8.76612048e+00  8.76611970e+00  7.11e-15 2.54e-13  3.90e-09     0s\n",
      "\n",
      "Barrier solved model in 12 iterations and 0.05 seconds\n",
      "Optimal objective 8.76612048e+00\n",
      "\n"
     ]
    },
    {
     "data": {
      "text/plain": [
       ":Optimal"
      ]
     },
     "execution_count": 10,
     "metadata": {},
     "output_type": "execute_result"
    }
   ],
   "source": [
    "using JuMP, Gurobi\n",
    "\n",
    "m  = Model()\n",
    "@variable(m, r_square >= 0)\n",
    "@variable(m , center[1:2])\n",
    "for i in  1:50\n",
    "    @constraint(m , r_square >= sum((center - X[i,:]).^2))\n",
    "end\n",
    "@objective(m, Min, r_square)\n",
    "solve(m)"
   ]
  },
  {
   "cell_type": "code",
   "execution_count": 11,
   "metadata": {
    "collapsed": false
   },
   "outputs": [
    {
     "data": {
      "image/png": "[encoded data removed]",
      "text/plain": [
       "PyPlot.Figure(PyObject <matplotlib.figure.Figure object at 0x7f50193fd5f8>)"
      ]
     },
     "metadata": {},
     "output_type": "display_data"
    },
    {
     "data": {
      "text/plain": [
       "(0.0,8.0,0.0,8.0)"
      ]
     },
     "execution_count": 11,
     "metadata": {},
     "output_type": "execute_result"
    }
   ],
   "source": [
    "using PyPlot\n",
    "t = linspace(0,2pi,100)\n",
    "r_val = sqrt(getvalue(r_square))\n",
    "center_val = getvalue(center)\n",
    "plot(center_val[1] + r_val*cos(t), center_val[2] + r_val*sin(t))\n",
    "scatter(X[:,1], X[:,2], color=\"red\")\n",
    "axis(\"equal\")"
   ]
  },
  {
   "cell_type": "markdown",
   "metadata": {},
   "source": [
    "# Q2\n",
    "## a."
   ]
  },
  {
   "cell_type": "markdown",
   "metadata": {},
   "source": [
    "The problem is not convex the constraint is not positive semidefinite. For example if we set ** x = -y = 1 , z = 0**  then the left hand side becomes -4.  "
   ]
  },
  {
   "cell_type": "markdown",
   "metadata": {},
   "source": [
    "## b.\n",
    "This QCQP is unbounded. This is true since for any **x,y,z** such that **x = -y, z = 0**, the LHS of the constraint will always be less than or equal to 0. Therefore it will be feasible. Then cleary the problem is unbounded since I can let **x** and **y** go to positive and negative infinity respectively which will in turn let the objective go to infinity."
   ]
  },
  {
   "cell_type": "markdown",
   "metadata": {},
   "source": [
    "# Q3\n",
    "## a."
   ]
  },
  {
   "cell_type": "code",
   "execution_count": 49,
   "metadata": {
    "collapsed": false
   },
   "outputs": [
    {
     "name": "stdout",
     "output_type": "stream",
     "text": [
      "Optimize a model with 482 rows, 720 columns and 1428 nonzeros\n",
      "Model has 240 quadratic objective terms\n",
      "Coefficient statistics:\n",
      "  Matrix range     [3e-04, 1e+00]\n",
      "  Objective range  [0e+00, 0e+00]\n",
      "  QObjective range [2e+00, 2e+00]\n",
      "  Bounds range     [0e+00, 0e+00]\n",
      "  RHS range        [5e-01, 3e+01]\n",
      "Presolve removed 480 rows and 488 columns\n",
      "Presolve time: 0.00s\n",
      "Presolved: 2 rows, 232 columns, 232 nonzeros\n",
      "Presolved model has 232 quadratic objective terms\n",
      "Ordering time: 0.00s\n",
      "\n",
      "Barrier statistics:\n",
      " Free vars  : 232\n",
      " AA' NZ     : 0.000e+00\n",
      " Factor NZ  : 2.000e+00\n",
      " Factor Ops : 2.000e+00 (less than 1 second per iteration)\n",
      " Threads    : 1\n",
      "\n",
      "                  Objective                Residual\n",
      "Iter       Primal          Dual         Primal    Dual     Compl     Time\n",
      "   0   1.05930705e+02 -1.05930705e+02  1.42e-14 1.55e+00  0.00e+00     0s\n",
      "   1   1.05930705e+02  1.05930493e+02  2.13e-14 1.55e-06  0.00e+00     0s\n",
      "   2   1.05930705e+02  1.05930705e+02  7.11e-15 1.55e-12  0.00e+00     0s\n",
      "\n",
      "Barrier solved model in 2 iterations and 0.00 seconds\n",
      "Optimal objective 1.05930705e+02\n",
      "\n"
     ]
    },
    {
     "data": {
      "text/plain": [
       ":Optimal"
      ]
     },
     "execution_count": 49,
     "metadata": {},
     "output_type": "execute_result"
    }
   ],
   "source": [
    "m = Model()\n",
    "#create variables\n",
    "@variable(m, XA[1:60,1:2])\n",
    "@variable(m, XB[1:60,1:2])\n",
    "@variable(m, VA[1:60,1:2])\n",
    "@variable(m, VB[1:60,1:2])\n",
    "@variable(m, UA[1:60,1:2])\n",
    "@variable(m, UB[1:60,1:2])\n",
    "\n",
    "#start times\n",
    "@constraint(m, XA[1,:] .== [0,0])\n",
    "@constraint(m, XB[1,:] .== [0.5,0])\n",
    "\n",
    "#start velocities\n",
    "@constraint(m, VA[1,:] .==[0,20])\n",
    "@constraint(m, VB[1,:] .== [30, 0])\n",
    "\n",
    "#rendezvous constraint\n",
    "@constraint(m, XA[60,:] .== XB[60,:])\n",
    "\n",
    "#dynamics constraints\n",
    "for i in 2:60\n",
    "    @constraint(m, XA[i,:] .== XA[i-1,:] + VA[i-1,:]/3600.)\n",
    "    @constraint(m, XB[i,:] .== XB[i-1,:] + VB[i-1,:]/3600.)\n",
    "    @constraint(m, VA[i,:] .== VA[i-1, :] + UA[i-1,:])\n",
    "    @constraint(m, VB[i,:] .== VB[i-1,:] + UB[i-1,:])\n",
    "end\n",
    "\n",
    "@objective(m, Min, sum(UA.^2) + sum(UB.^2))\n",
    "\n",
    "solve(m)"
   ]
  },
  {
   "cell_type": "markdown",
   "metadata": {},
   "source": [
    "Below is the trajectories of both hovercrafts. Alice is blue and Bob is red"
   ]
  },
  {
   "cell_type": "code",
   "execution_count": 50,
   "metadata": {
    "collapsed": false
   },
   "outputs": [
    {
     "data": {
      "image/png": "[encoded data removed]",
      "text/plain": [
       "PyPlot.Figure(PyObject <matplotlib.figure.Figure object at 0x7f50151e0b38>)"
      ]
     },
     "metadata": {},
     "output_type": "display_data"
    },
    {
     "name": "stdout",
     "output_type": "stream",
     "text": [
      "optimal rendezvous location[0.495833,0.163889]"
     ]
    }
   ],
   "source": [
    "va_a = getvalue(VA)\n",
    "xa = getvalue(XA)\n",
    "xb = getvalue(XB)\n",
    "plot(xa[:,1], xa[:,2], color=\"blue\")\n",
    "plot(xb[:,1], xb[:,2], color=\"red\")\n",
    "xlim(-0.1,0.7)\n",
    "ylim(-0.1,0.2)\n",
    "print(\"optimal rendezvous location\", xa[60,:])"
   ]
  },
  {
   "cell_type": "markdown",
   "metadata": {},
   "source": [
    "## b."
   ]
  },
  {
   "cell_type": "code",
   "execution_count": 51,
   "metadata": {
    "collapsed": false
   },
   "outputs": [
    {
     "name": "stdout",
     "output_type": "stream",
     "text": [
      "Optimize a model with 484 rows, 720 columns and 1432 nonzeros\n",
      "Model has 240 quadratic objective terms\n",
      "Coefficient statistics:\n",
      "  Matrix range     [3e-04, 1e+00]\n",
      "  Objective range  [0e+00, 0e+00]\n",
      "  QObjective range [2e+00, 2e+00]\n",
      "  Bounds range     [0e+00, 0e+00]\n",
      "  RHS range        [5e-01, 3e+01]\n",
      "Presolve removed 480 rows and 484 columns\n",
      "Presolve time: 0.00s\n",
      "Presolved: 4 rows, 236 columns, 468 nonzeros\n",
      "Presolved model has 236 quadratic objective terms\n",
      "Ordering time: 0.00s\n",
      "\n",
      "Barrier statistics:\n",
      " Free vars  : 236\n",
      " AA' NZ     : 2.000e+00\n",
      " Factor NZ  : 6.000e+00\n",
      " Factor Ops : 1.000e+01 (less than 1 second per iteration)\n",
      " Threads    : 1\n",
      "\n",
      "                  Objective                Residual\n",
      "Iter       Primal          Dual         Primal    Dual     Compl     Time\n",
      "   0   2.34570427e+02 -2.34570427e+02  1.10e-12 2.54e+00  0.00e+00     0s\n",
      "   1   2.34570427e+02  2.34569958e+02  3.55e-14 2.54e-06  0.00e+00     0s\n",
      "   2   2.34570427e+02  2.34570427e+02  3.55e-14 2.54e-12  0.00e+00     0s\n",
      "\n",
      "Barrier solved model in 2 iterations and 0.00 seconds\n",
      "Optimal objective 2.34570427e+02\n",
      "\n"
     ]
    },
    {
     "data": {
      "text/plain": [
       ":Optimal"
      ]
     },
     "execution_count": 51,
     "metadata": {},
     "output_type": "execute_result"
    }
   ],
   "source": [
    "m = Model()\n",
    "#create variables\n",
    "@variable(m, XA[1:60,1:2])\n",
    "@variable(m, XB[1:60,1:2])\n",
    "@variable(m, VA[1:60,1:2])\n",
    "@variable(m, VB[1:60,1:2])\n",
    "@variable(m, UA[1:60,1:2])\n",
    "@variable(m, UB[1:60,1:2])\n",
    "\n",
    "#start times\n",
    "@constraint(m, XA[1,:] .== [0,0])\n",
    "@constraint(m, XB[1,:] .== [0.5,0])\n",
    "\n",
    "#start velocities\n",
    "@constraint(m, VA[1,:] .==[0,20])\n",
    "@constraint(m, VB[1,:] .== [30, 0])\n",
    "\n",
    "#rendezvous constraint\n",
    "@constraint(m, XA[60,:] .== XB[60,:])\n",
    "\n",
    "#rendezvous velocity constraint\n",
    "@constraint(m, VA[60,:] .== VB[60,:])\n",
    "\n",
    "#dynamics constraints\n",
    "for i in 2:60\n",
    "    @constraint(m, XA[i,:] .== XA[i-1,:] + VA[i-1,:]/3600.)\n",
    "    @constraint(m, XB[i,:] .== XB[i-1,:] + VB[i-1,:]/3600.)\n",
    "    @constraint(m, VA[i,:] .== VA[i-1, :] + UA[i-1,:])\n",
    "    @constraint(m, VB[i,:] .== VB[i-1,:] + UB[i-1,:])\n",
    "end\n",
    "\n",
    "@objective(m, Min, sum(UA.^2) + sum(UB.^2))\n",
    "\n",
    "solve(m)"
   ]
  },
  {
   "cell_type": "markdown",
   "metadata": {},
   "source": [
    "Below is the trajectories of both hovercrafts. Alice is blue and Bob is red"
   ]
  },
  {
   "cell_type": "code",
   "execution_count": 52,
   "metadata": {
    "collapsed": false
   },
   "outputs": [
    {
     "data": {
      "image/png": "[encoded data removed]",
      "text/plain": [
       "PyPlot.Figure(PyObject <matplotlib.figure.Figure object at 0x7f501514c9e8>)"
      ]
     },
     "metadata": {},
     "output_type": "display_data"
    },
    {
     "name": "stdout",
     "output_type": "stream",
     "text": [
      "optimal rendezvous location[0.495833,0.163889]"
     ]
    }
   ],
   "source": [
    "va_b = getvalue(VA)\n",
    "xa = getvalue(XA)\n",
    "xb = getvalue(XB)\n",
    "plot(xa[:,1], xa[:,2], color=\"blue\")\n",
    "plot(xb[:,1], xb[:,2], color=\"red\")\n",
    "xlim(-0.1,0.7)\n",
    "ylim(-0.1,0.2)\n",
    "print(\"optimal rendezvous location\", xa[60,:])"
   ]
  },
  {
   "cell_type": "markdown",
   "metadata": {},
   "source": [
    "As you can see the rendezvous location is the same with and without the velocity constraint."
   ]
  },
  {
   "cell_type": "markdown",
   "metadata": {},
   "source": [
    "## c.\n",
    "\n",
    "As you can see below. In both optimizations for part a and b, Alice exceeds 35 mph, with a max speed of approximately 42.7 mph."
   ]
  },
  {
   "cell_type": "code",
   "execution_count": 53,
   "metadata": {
    "collapsed": false
   },
   "outputs": [
    {
     "name": "stdout",
     "output_type": "stream",
     "text": [
      "46.02778367985958\n",
      "42.79755747657695\n"
     ]
    }
   ],
   "source": [
    "va_b = getvalue(VA)\n",
    "max = -1\n",
    "for i in 1:60\n",
    "    if norm(va_a[i,:]) > max\n",
    "        max = norm(va_a[i,:])\n",
    "    end\n",
    "end\n",
    "println(max)\n",
    "\n",
    "max = -1\n",
    "for i in 1:60\n",
    "    if norm(va_b[i,:]) > max\n",
    "        max = norm(va_b[i,:])\n",
    "    end\n",
    "end\n",
    "println(max)"
   ]
  },
  {
   "cell_type": "markdown",
   "metadata": {},
   "source": [
    "I will alter the model so the the norm squared of all the velocity vectors is less than $35^2$"
   ]
  },
  {
   "cell_type": "code",
   "execution_count": 57,
   "metadata": {
    "collapsed": false
   },
   "outputs": [
    {
     "name": "stdout",
     "output_type": "stream",
     "text": [
      "Optimize a model with 484 rows, 720 columns and 1432 nonzeros\n",
      "Model has 240 quadratic objective terms\n",
      "Model has 118 quadratic constraints\n",
      "Coefficient statistics:\n",
      "  Matrix range     [3e-04, 1e+00]\n",
      "  QMatrix range    [1e+00, 1e+00]\n",
      "  Objective range  [0e+00, 0e+00]\n",
      "  QObjective range [2e+00, 2e+00]\n",
      "  Bounds range     [0e+00, 0e+00]\n",
      "  RHS range        [5e-01, 3e+01]\n",
      "Presolve removed 22 rows and 26 columns\n",
      "Presolve time: 0.00s\n",
      "Presolved: 585 rows, 818 columns, 1512 nonzeros\n",
      "Presolved model has 119 second-order cone constraints\n",
      "Ordering time: 0.00s\n",
      "\n",
      "Barrier statistics:\n",
      " Dense cols : 1\n",
      " Free vars  : 226\n",
      " AA' NZ     : 2.780e+03\n",
      " Factor NZ  : 7.565e+03 (roughly 1 MByte of memory)\n",
      " Factor Ops : 1.094e+05 (less than 1 second per iteration)\n",
      " Threads    : 1\n",
      "\n",
      "                  Objective                Residual\n",
      "Iter       Primal          Dual         Primal    Dual     Compl     Time\n",
      "   0   1.34283991e+04  1.34283991e+04  8.18e+02 4.23e+03  1.49e+04     0s\n",
      "   1  -4.02400759e+03 -1.99629615e+05  4.88e+01 4.61e+02  1.15e+03     0s\n",
      "   2  -5.09112263e+02 -7.87575468e+04  7.74e+00 5.07e-04  1.78e+02     0s\n",
      "   3   7.98202387e+02 -5.71661977e+04  4.97e-01 2.99e-04  8.49e+01     0s\n",
      "   4   6.07163119e+02 -3.27607275e+04  2.40e-01 1.66e-04  4.80e+01     0s\n",
      "   5   1.28559569e+03 -7.77819004e+03  3.47e-05 4.15e-05  1.28e+01     0s\n",
      "   6   5.72080073e+02 -2.96461235e+03  3.57e-06 1.49e-05  4.98e+00     0s\n",
      "   7   2.87228093e+02 -2.10592878e+02  5.55e-07 1.38e-06  7.01e-01     0s\n",
      "   8   2.48995068e+02  2.03943866e+02  3.21e-08 9.77e-08  6.35e-02     0s\n",
      "   9   2.38881047e+02  2.34132766e+02  5.29e-10 3.13e-09  6.69e-03     0s\n",
      "  10   2.38182369e+02  2.37856247e+02  3.20e-10 3.04e-09  4.59e-04     0s\n",
      "  11   2.38106716e+02  2.38095876e+02  3.13e-11 2.05e-11  1.53e-05     0s\n",
      "  12   2.38104813e+02  2.38104500e+02  1.06e-12 5.64e-11  4.41e-07     0s\n",
      "\n",
      "Barrier solved model in 12 iterations and 0.02 seconds\n",
      "Optimal objective 2.38104813e+02\n",
      "\n"
     ]
    },
    {
     "data": {
      "text/plain": [
       ":Optimal"
      ]
     },
     "execution_count": 57,
     "metadata": {},
     "output_type": "execute_result"
    }
   ],
   "source": [
    "m = Model()\n",
    "#create variables\n",
    "@variable(m, XA[1:60,1:2])\n",
    "@variable(m, XB[1:60,1:2])\n",
    "@variable(m, VA[1:60,1:2])\n",
    "@variable(m, VB[1:60,1:2])\n",
    "@variable(m, UA[1:60,1:2])\n",
    "@variable(m, UB[1:60,1:2])\n",
    "\n",
    "#start times\n",
    "@constraint(m, XA[1,:] .== [0,0])\n",
    "@constraint(m, XB[1,:] .== [0.5,0])\n",
    "\n",
    "#start velocities\n",
    "@constraint(m, VA[1,:] .==[0,20])\n",
    "@constraint(m, VB[1,:] .== [30, 0])\n",
    "\n",
    "#rendezvous constraint\n",
    "@constraint(m, XA[60,:] .== XB[60,:])\n",
    "\n",
    "#rendezvous velocity constraint\n",
    "@constraint(m, VA[60,:] .== VB[60,:])\n",
    "\n",
    "#dynamics constraints\n",
    "for i in 2:60\n",
    "    @constraint(m, XA[i,:] .== XA[i-1,:] + VA[i-1,:]/3600.)\n",
    "    @constraint(m, XB[i,:] .== XB[i-1,:] + VB[i-1,:]/3600.)\n",
    "    @constraint(m, VA[i,:] .== VA[i-1, :] + UA[i-1,:])\n",
    "    @constraint(m, VB[i,:] .== VB[i-1,:] + UB[i-1,:])\n",
    "    \n",
    "    #speed limit constraint\n",
    "    @constraint(m, sum(VA[i,:].^2) <= 35^2)\n",
    "    @constraint(m, sum(VB[i,:].^2) <= 35^2)\n",
    "end\n",
    "\n",
    "\n",
    "\n",
    "\n",
    "@objective(m, Min, sum(UA.^2) + sum(UB.^2))\n",
    "\n",
    "solve(m)"
   ]
  },
  {
   "cell_type": "code",
   "execution_count": 58,
   "metadata": {
    "collapsed": false
   },
   "outputs": [
    {
     "data": {
      "image/png": "[encoded data removed]",
      "text/plain": [
       "PyPlot.Figure(PyObject <matplotlib.figure.Figure object at 0x7f5015094fd0>)"
      ]
     },
     "metadata": {},
     "output_type": "display_data"
    },
    {
     "name": "stdout",
     "output_type": "stream",
     "text": [
      "optimal rendezvous location[0.411276,0.149441]"
     ]
    }
   ],
   "source": [
    "va_c = getvalue(VA)\n",
    "xa = getvalue(XA)\n",
    "xb = getvalue(XB)\n",
    "plot(xa[:,1], xa[:,2], color=\"blue\")\n",
    "plot(xb[:,1], xb[:,2], color=\"red\")\n",
    "xlim(-0.1,0.7)\n",
    "ylim(-0.1,0.2)\n",
    "print(\"optimal rendezvous location\", xa[60,:])"
   ]
  },
  {
   "cell_type": "markdown",
   "metadata": {},
   "source": [
    "As you can see both Alice and Bob's max velocities never go above 35"
   ]
  },
  {
   "cell_type": "code",
   "execution_count": 60,
   "metadata": {
    "collapsed": false
   },
   "outputs": [
    {
     "name": "stdout",
     "output_type": "stream",
     "text": [
      "34.99999637821745\n",
      "30.0\n"
     ]
    }
   ],
   "source": [
    "va_c = getvalue(VA)\n",
    "vb_c = getvalue(VB)\n",
    "max = -1\n",
    "for i in 1:60\n",
    "    if norm(va_c[i,:]) > max\n",
    "        max = norm(va_c[i,:])\n",
    "    end\n",
    "end\n",
    "println(max)\n",
    "\n",
    "max = -1\n",
    "for i in 1:60\n",
    "    if norm(vb_c[i,:]) > max\n",
    "        max = norm(vb_c[i,:])\n",
    "    end\n",
    "end\n",
    "println(max)\n"
   ]
  },
  {
   "cell_type": "code",
   "execution_count": null,
   "metadata": {
    "collapsed": true
   },
   "outputs": [],
   "source": []
  }
 ],
 "metadata": {
  "anaconda-cloud": {},
  "kernelspec": {
   "display_name": "Julia 0.5.0",
   "language": "julia",
   "name": "julia-0.5"
  },
  "language_info": {
   "file_extension": ".jl",
   "mimetype": "application/julia",
   "name": "julia",
   "version": "0.5.0"
  }
 },
 "nbformat": 4,
 "nbformat_minor": 1
}
