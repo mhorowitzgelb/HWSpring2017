{
 "cells": [
  {
   "cell_type": "markdown",
   "metadata": {},
   "source": [
    "## Question 1"
   ]
  },
  {
   "cell_type": "code",
   "execution_count": 17,
   "metadata": {
    "collapsed": true
   },
   "outputs": [],
   "source": [
    "using JuMP, Clp, ECOS, SCS"
   ]
  },
  {
   "cell_type": "code",
   "execution_count": 7,
   "metadata": {
    "collapsed": false
   },
   "outputs": [
    {
     "data": {
      "text/latex": [
       "$$ 5 x1 - x2 + 11 x3 $$"
      ],
      "text/plain": [
       "5 x1 - x2 + 11 x3"
      ]
     },
     "execution_count": 7,
     "metadata": {},
     "output_type": "execute_result"
    }
   ],
   "source": [
    "m = Model()\n",
    "@variable(m, 0 <= x1 <= 3)\n",
    "@variable(m, 0 <= x2 <= 3)\n",
    "@variable(m, 0 <= x3 <= 3)\n",
    "\n",
    "@constraint(m, 2x1 >= x2 + x3)\n",
    "@objective(m, Max, 5x1 - x2 + 11x3)"
   ]
  },
  {
   "cell_type": "markdown",
   "metadata": {},
   "source": [
    "### Solve using Clp"
   ]
  },
  {
   "cell_type": "code",
   "execution_count": 8,
   "metadata": {
    "collapsed": false
   },
   "outputs": [
    {
     "name": "stdout",
     "output_type": "stream",
     "text": [
      "  4.357362 seconds (4.18 M allocations: 172.616 MB, 1.85% gc time)\n"
     ]
    },
    {
     "data": {
      "text/plain": [
       "48.0"
      ]
     },
     "execution_count": 8,
     "metadata": {},
     "output_type": "execute_result"
    }
   ],
   "source": [
    "setsolver(m, ClpSolver())\n",
    "@time(solve(m))\n",
    "getobjectivevalue(m)"
   ]
  },
  {
   "cell_type": "markdown",
   "metadata": {},
   "source": [
    "### Solve using ECOS"
   ]
  },
  {
   "cell_type": "code",
   "execution_count": 9,
   "metadata": {
    "collapsed": false
   },
   "outputs": [
    {
     "name": "stdout",
     "output_type": "stream",
     "text": [
      " \n",
      "ECOS 2.0.5 - (C) embotech GmbH, Zurich Switzerland, 2012-15. Web: www.embotech.com/ECOS\n",
      "\n",
      "It     pcost       dcost      gap   pres   dres    k/t    mu     step   sigma     IR    |   BT\n",
      " 0  -2.250e+01  -8.440e+01  +1e+02  2e-01  3e-01  1e+00  1e+01    ---    ---    1  1  - |  -  - \n",
      " 1  -4.615e+01  -5.603e+01  +2e+01  2e-02  6e-02  7e-01  3e+00  0.8410  6e-02   0  0  0 |  0  0\n",
      " 2  -4.726e+01  -4.850e+01  +3e+00  3e-03  8e-03  2e-01  4e-01  0.9283  7e-02   0  0  0 |  0  0\n",
      " 3  -4.799e+01  -4.803e+01  +8e-02  1e-04  2e-04  7e-03  1e-02  0.9798  9e-03   1  0  0 |  0  0\n",
      " 4  -4.800e+01  -4.800e+01  +9e-04  1e-06  3e-06  8e-05  1e-04  0.9890  1e-04   1  0  0 |  0  0\n",
      " 5  -4.800e+01  -4.800e+01  +9e-06  1e-08  3e-08  9e-07  1e-06  0.9890  1e-04   1  0  0 |  0  0\n",
      " 6  -4.800e+01  -4.800e+01  +1e-07  1e-10  3e-10  1e-08  1e-08  0.9890  1e-04   1  0  0 |  0  0\n",
      "\n",
      "OPTIMAL (within feastol=3.3e-10, reltol=2.2e-09, abstol=1.0e-07).\n",
      "Runtime: 0.000131 seconds.\n",
      "\n",
      " "
     ]
    }
   ],
   "source": [
    "setsolver(m, ECOSSolver())\n",
    "@time(solve(m))\n",
    "getobjectivevalue(m)"
   ]
  },
  {
   "cell_type": "markdown",
   "metadata": {},
   "source": [
    "### Solve using SCS"
   ]
  },
  {
   "cell_type": "code",
   "execution_count": 10,
   "metadata": {
    "collapsed": false
   },
   "outputs": [
    {
     "name": "stdout",
     "output_type": "stream",
     "text": [
      " ----------------------------------------------------------------------------\n",
      "\tSCS v1.1.8 - Splitting Conic Solver\n",
      "\t(c) Brendan O'Donoghue, Stanford University, 2012-2015\n",
      "----------------------------------------------------------------------------\n",
      "Lin-sys: sparse-direct, nnz in A = 9\n",
      "eps = 1.00e-04, alpha = 1.80, max_iters = 20000, normalize = 1, scale = 5.00\n",
      "Variables n = 3, constraints m = 7\n",
      "Cones:\tlinear vars: 7\n",
      "Setup time: 4.94e-05s\n",
      "----------------------------------------------------------------------------\n",
      " Iter | pri res | dua res | rel gap | pri obj | dua obj | kap/tau | time (s)\n",
      "----------------------------------------------------------------------------\n",
      "     0|      inf       inf      -nan      -inf      -nan       inf  8.31e-05 \n",
      "   100| 8.00e-05  1.91e-04  8.48e-06 -4.80e+01 -4.80e+01  2.69e-15  1.48e-04 \n",
      "   140| 4.49e-06  2.70e-06  1.09e-07 -4.80e+01 -4.80e+01  0.00e+00  1.75e-04 \n",
      "----------------------------------------------------------------------------\n",
      "Status: Solved\n",
      "Timing: Solve time: 1.77e-04s\n",
      "\tLin-sys: nnz in L factor: 19, avg solve time: 1.99e-07s\n",
      "\tCones: avg projection time: 8.34e-08s\n",
      "----------------------------------------------------------------------------\n",
      "Error metrics:\n",
      "dist(s, K) = 1.3565e-17, dist(y, K*) = 0.0000e+00, s'y/m = -9.2050e-18\n",
      "|Ax + s - b|_2 / (1 + |b|_2) = 4.4865e-06\n",
      "|A'y + c|_2 / (1 + |c|_2) = 2.7040e-06\n",
      "|c'x + b'y| / (1 + |c'x| + |b'y|) = 1.0946e-07\n",
      "----------------------------------------------------------------------------\n",
      "c'x = -48.0001, -b'y = -48.0001\n",
      "============================================================================\n",
      " 2.092369 seconds (1.29 M allocations: 51.149 MB, 1.39% gc time)\n"
     ]
    }
   ],
   "source": [
    "setsolver(m, SCSSolver())\n",
    "@time(solve(m))\n",
    "getobjectivevalue(m)"
   ]
  },
  {
   "cell_type": "markdown",
   "metadata": {},
   "source": [
    "### Analysis\n",
    "The CLP solver is by far the most accurate and fastest of the three solvers. This is probably because it is designed to solve only linear programs, while the other two solvers are more generic and can solve both linear programs and second order cone programs. (Note the SCS solver gets a higher objective value than CLP, but CLP found an optimal solution. This comes from numerical error causing SCS to find an infeasible solution)"
   ]
  },
  {
   "cell_type": "markdown",
   "metadata": {},
   "source": [
    "x3 is in the infeasible region"
   ]
  },
  {
   "cell_type": "code",
   "execution_count": 11,
   "metadata": {
    "collapsed": false
   },
   "outputs": [
    {
     "data": {
      "text/plain": [
       "3.0000130627112176"
      ]
     },
     "execution_count": 11,
     "metadata": {},
     "output_type": "execute_result"
    }
   ],
   "source": [
    "getvalue(x3)"
   ]
  },
  {
   "cell_type": "markdown",
   "metadata": {},
   "source": [
    "## Question 2"
   ]
  },
  {
   "cell_type": "markdown",
   "metadata": {},
   "source": [
    "### a)\n",
    "\n",
    "Since $z_1$ is unconstrained, we redefine it as $z_1 = y - w$ where $y \\geq 0 , w \\geq 0$\n",
    "Then to make all the rest of the variables non-negative, we simply shift there value.\n",
    "\n",
    "$z'_2 = z_2 + 1$\n",
    "\n",
    "$z'_3 = z_3 + 1$\n",
    "\n",
    "$z'_4 = z_4 + 2$\n",
    "\n",
    "Then we turn the rest of the constraints into equalities using non-negative surplus and slack variables.\n",
    "\n",
    "$-y + w + 6z'_2 - z'_3 + z'_4 - s_1 = 4$\n",
    "\n",
    "$7z'_2 + z'_4 = 14$\n",
    "\n",
    "$z'_3 + z'_4 + s_2 = 5$\n",
    "\n",
    "$z'_2 + s_3 = 6$\n",
    "\n",
    "$z'_3 + s_4 = 6$\n",
    "\n",
    "$z'_4 + s_5 = 4$\n",
    "\n",
    "This gives us our variable array,\n",
    "\n",
    "$x = \\begin{bmatrix}\n",
    "y \\\\\n",
    "w \\\\\n",
    "z'_2 \\\\\n",
    "z'_3 \\\\\n",
    "z'_4 \\\\\n",
    "s_1 \\\\\n",
    "s_2 \\\\\n",
    "s_3 \\\\\n",
    "s_4 \\\\\n",
    "s_5 \\\\\n",
    "\\end{bmatrix}$\n",
    "\n",
    "equality equations defined by,\n",
    "\n",
    "$ A = \\begin{bmatrix}\n",
    "-1 & 1 & 6 & -1 & 1 & -1 & 0 & 0 & 0 & 0\\\\\n",
    "0 & 0 & 0 & 1 & 1 & 0 & 1 & 0 & 0 & 0 \\\\\n",
    "0 & 0 & 7 & 0 & 1 & 0 & 0 & 0 & 0 & 0 \\\\\n",
    "0 & 0 & 1 & 0 & 0 & 0 & 0 & 1 & 0 & 0 \\\\\n",
    "0 & 0 & 0 & 1 & 0 & 0 & 0 & 0 & 1 & 0 \\\\\n",
    "0 & 0 & 0 & 0 & 1 & 0 & 0 & 0 & 0 & 1 \\\\\n",
    "\\end{bmatrix}$\n",
    "\n",
    "$b = \\begin{bmatrix}\n",
    "4\\\\\n",
    "5\\\\\n",
    "14 \\\\ \n",
    "6\\\\\n",
    "6\\\\\n",
    "4 \\\\\n",
    "\\end{bmatrix}$\n",
    "\n",
    "Finally our new objective function is\n",
    "\n",
    "$ -3y + 3w + z'_2$\n",
    "\n",
    "minimizing this vector will maximize the orignal objective function since,\n",
    "\n",
    "$-3y + 3w + z'_2 = -(3z_1 - z_2) + 1$\n",
    "\n",
    "so our objective vector is,\n",
    "\n",
    "$c= \\begin{bmatrix}\n",
    "-3 \\\\\n",
    "3 \\\\\n",
    "1 \\\\\n",
    "0 \\\\\n",
    "0 \\\\\n",
    "0 \\\\\n",
    "0 \\\\\n",
    "0\\\\\n",
    "0\\\\\n",
    "0\\\\\n",
    "\\end{bmatrix}$"
   ]
  },
  {
   "cell_type": "markdown",
   "metadata": {},
   "source": [
    "### b)"
   ]
  },
  {
   "cell_type": "markdown",
   "metadata": {},
   "source": [
    "#### Solving in non standard form"
   ]
  },
  {
   "cell_type": "code",
   "execution_count": 12,
   "metadata": {
    "collapsed": false
   },
   "outputs": [
    {
     "data": {
      "text/plain": [
       ":Optimal"
      ]
     },
     "execution_count": 12,
     "metadata": {},
     "output_type": "execute_result"
    }
   ],
   "source": [
    "ns_m = Model()\n",
    "@variable(ns_m, z1)\n",
    "@variable(ns_m, -1 <= z2 <= 5)\n",
    "@variable(ns_m, -1 <= z3 <= 5)\n",
    "@variable(ns_m, -2 <= z4 <= 2)\n",
    "@constraint(ns_m, -z1 + 6z2  - z3 + z4 >= -3)\n",
    "@constraint(ns_m, 7z2 + z4 == 5)\n",
    "@constraint(ns_m, z3 + z4 <= 2)\n",
    "@objective(ns_m, Max, 3z1 - z2)\n",
    "solve(ns_m)"
   ]
  },
  {
   "cell_type": "code",
   "execution_count": 23,
   "metadata": {
    "collapsed": false,
    "scrolled": true
   },
   "outputs": [
    {
     "name": "stdout",
     "output_type": "stream",
     "text": [
      "z1 = 8.571428571428571\n",
      "z2 = 0.42857142857142855\n",
      "z3 = -1.0\n",
      "z4 = 2.0\n",
      "objective = 25.28571428571429\n"
     ]
    }
   ],
   "source": [
    "println(\"z1 = \", getvalue(z1))\n",
    "println(\"z2 = \", getvalue(z2))\n",
    "println(\"z3 = \", getvalue(z3))\n",
    "println(\"z4 = \", getvalue(z4))\n",
    "println(\"objective = \", getobjectivevalue(ns_m))"
   ]
  },
  {
   "cell_type": "markdown",
   "metadata": {},
   "source": [
    "#### Solving standard form"
   ]
  },
  {
   "cell_type": "code",
   "execution_count": 32,
   "metadata": {
    "collapsed": false
   },
   "outputs": [
    {
     "data": {
      "text/plain": [
       ":Optimal"
      ]
     },
     "execution_count": 32,
     "metadata": {},
     "output_type": "execute_result"
    }
   ],
   "source": [
    "A = [\n",
    "    -1 1 6 -1 1 -1 0 0 0 0;\n",
    "    0 0 0 1 1 0 1 0 0 0;\n",
    "    0 0 7 0 1 0 0 0 0 0;\n",
    "    0 0 1 0 0 0 0 1 0 0;\n",
    "    0 0 0 1 0 0 0 0 1 0;\n",
    "    0 0 0 0 1 0 0 0 0 1;\n",
    "]\n",
    "b = [4; 5; 14 ; 6; 6; 4;]\n",
    "c = [-3; 3; 1; 0; 0; 0; 0; 0; 0; 0 ;]\n",
    "\n",
    "s_m = Model()\n",
    "@variable(s_m, x[1:10] >= 0)\n",
    "@constraint(s_m, A*x .== b)\n",
    "@objective(s_m, Min, (c'*x)[1])\n",
    "solve(s_m)"
   ]
  },
  {
   "cell_type": "markdown",
   "metadata": {},
   "source": [
    "With slight modifications to solution we aquire the same values and objective value as non standard model."
   ]
  },
  {
   "cell_type": "code",
   "execution_count": 35,
   "metadata": {
    "collapsed": false
   },
   "outputs": [
    {
     "name": "stdout",
     "output_type": "stream",
     "text": [
      "z1 = 8.571428571428571\n",
      "z2 = 0.4285714285714286\n",
      "z3 = -1.0\n",
      "z4 = 2.0\n",
      "objective =25.28571428571429\n"
     ]
    }
   ],
   "source": [
    "x_value = getvalue(x)\n",
    "println(\"z1 = \", x_value[1] - x_value[2])\n",
    "println(\"z2 = \", x_value[3] -1)\n",
    "println(\"z3 = \",x_value[4] - 1)\n",
    "println(\"z4 = \", x_value[5] -2)\n",
    "println(\"objective =\", -getobjectivevalue(s_m) + 1)\n"
   ]
  },
  {
   "cell_type": "markdown",
   "metadata": {},
   "source": [
    "## Question 3\n",
    "### a)"
   ]
  },
  {
   "cell_type": "code",
   "execution_count": 37,
   "metadata": {
    "collapsed": false
   },
   "outputs": [
    {
     "data": {
      "text/latex": [
       "$$ 300 corn + 200 wheat $$"
      ],
      "text/plain": [
       "300 corn + 200 wheat"
      ]
     },
     "execution_count": 37,
     "metadata": {},
     "output_type": "execute_result"
    }
   ],
   "source": [
    "workers = 100\n",
    "fertilizer = 120 \n",
    "acres = 45\n",
    "wheat_profit = 200\n",
    "corn_profit = 300\n",
    "\n",
    "crop_m = Model()\n",
    "@variable(crop_m, corn >= 0)\n",
    "@variable(crop_m, wheat >= 0)\n",
    "@constraint(crop_m, corn + wheat <= acres)\n",
    "@constraint(crop_m, 3wheat + 2corn <= workers)\n",
    "@constraint(crop_m, 2wheat + 4corn <= fertilizer)\n",
    "@objective(crop_m, Max, corn * corn_profit + wheat * wheat_profit)"
   ]
  },
  {
   "cell_type": "code",
   "execution_count": 40,
   "metadata": {
    "collapsed": false
   },
   "outputs": [
    {
     "name": "stdout",
     "output_type": "stream",
     "text": [
      "wheat = 19.999999999999996\n",
      "corn = 20.0\n",
      "total profit = 10000.0\n"
     ]
    }
   ],
   "source": [
    "solve(crop_m)\n",
    "println(\"wheat = \", getvalue(wheat))\n",
    "println(\"corn = \", getvalue(corn))\n",
    "println(\"total profit = \",getobjectivevalue(crop_m))"
   ]
  },
  {
   "cell_type": "markdown",
   "metadata": {},
   "source": [
    "### b)"
   ]
  },
  {
   "cell_type": "code",
   "execution_count": 1,
   "metadata": {
    "collapsed": false
   },
   "outputs": [],
   "source": [
    "using PyPlot"
   ]
  },
  {
   "cell_type": "markdown",
   "metadata": {},
   "source": [
    "As you can see in the plot below of all the boundaries, the profit level set of 10000 has only one feasible point which is at Corn = 20 and Wheat = 20. Any higher profit level set would be pushed past the feasible region."
   ]
  },
  {
   "cell_type": "code",
   "execution_count": 20,
   "metadata": {
    "collapsed": false
   },
   "outputs": [
    {
     "data": {
      "image/png": "[encoded data removed]",
      "text/plain": [
       "PyPlot.Figure(PyObject <matplotlib.figure.Figure object at 0x7f503a51f080>)"
      ]
     },
     "metadata": {},
     "output_type": "display_data"
    },
    {
     "data": {
      "text/plain": [
       "PyObject <matplotlib.legend.Legend object at 0x7f503a3a15f8>"
      ]
     },
     "execution_count": 20,
     "metadata": {},
     "output_type": "execute_result"
    }
   ],
   "source": [
    "w = linspace(-5,30,2)\n",
    "c = linspace(-10,60,2)\n",
    "acre_line = 45 - w\n",
    "worker_line = (100 - 3w)/2\n",
    "fertilizer_line = (120 - 2w)/4\n",
    "profit_line = (10000-200w)/300\n",
    "plot(w,acre_line, label = \"Acre Boundary\")\n",
    "plot(w,worker_line, label = \"Worker Boundary\")\n",
    "plot(w,fertilizer_line, label=\"Fertilizer Boundary\")\n",
    "plot(w, profit_line, label=\"Profit Level Set\")\n",
    "plot(w,zeros(w), label= \"Corn Boundary\")\n",
    "plot(zeros(c),c, label=\"Wheat Boundary\")\n",
    "xlabel(\"Wheat\")\n",
    "ylabel(\"Corn\")\n",
    "legend()"
   ]
  },
  {
   "cell_type": "markdown",
   "metadata": {},
   "source": [
    "## Question 4"
   ]
  },
  {
   "cell_type": "code",
   "execution_count": 35,
   "metadata": {
    "collapsed": false
   },
   "outputs": [
    {
     "name": "stdout",
     "output_type": "stream",
     "text": [
      "Cost = 98121.63579168123\n",
      "Iron allow 1 = 400.0\n",
      "Iron allow 2 = 0.0\n",
      "Iron allow 3 = 39.77630199231035\n",
      "Copper 1 = 0.0\n",
      "Copper 2 = 2.761272282418734\n",
      "Aluminum 1 = 57.462425725270904\n",
      "Aluminum 2 = 0.0\n"
     ]
    }
   ],
   "source": [
    "C = [0.025 ; 0.03; 0 ; 0 ; 0 ; 0 ; 0]\n",
    "Cu = [0; 0 ; 0.003; 0.9; .96; 0.004; 0.006]\n",
    "Mn = [0.013 ; 0.008; 0 ; 0 ;0.04; 0.012; 0]\n",
    "Avail = [400; 300; 600; 500; 200; 300; 250]\n",
    "Cost = [200; 250; 150; 220; 240; 200; 165]\n",
    "dummySum = [1; 1; 1; 1; 1; 1; 1]\n",
    "steelOrdered = 500\n",
    "\n",
    "material_names = [\"Iron allow 1\", \"Iron allow 2\", \"Iron allow 3\", \"Copper 1\", \"Copper 2\", \"Aluminum 1\", \"Aluminum 2\"]\n",
    "\n",
    "steel_m = Model()\n",
    "@variable(steel_m, x[1:7] >= 0)\n",
    "@constraint(steel_m, dot(dummySum,x) == steelOrdered)\n",
    "@constraint(steel_m, 0.02 <= dot(C,x)/steelOrdered <= 0.03)\n",
    "@constraint(steel_m, 0.004 <= dot(Cu,x)/steelOrdered <= 0.006)\n",
    "@constraint(steel_m, 0.012 <= dot(Mn,x)/steelOrdered <= 0.0165)\n",
    "@constraint(steel_m, x .<= Avail)\n",
    "@objective(steel_m, Min, dot(Cost,x))\n",
    "\n",
    "solve(steel_m)\n",
    "\n",
    "println(\"Cost = \", getobjectivevalue(steel_m))\n",
    "x = getvalue(x)\n",
    "for i in 1:7\n",
    "    println(material_names[i] , \" = \", x[i])\n",
    "end"
   ]
  }
 ],
 "metadata": {
  "anaconda-cloud": {},
  "kernelspec": {
   "display_name": "Julia 0.5.0",
   "language": "julia",
   "name": "julia-0.5"
  },
  "language_info": {
   "file_extension": ".jl",
   "mimetype": "application/julia",
   "name": "julia",
   "version": "0.5.0"
  }
 },
 "nbformat": 4,
 "nbformat_minor": 1
}
