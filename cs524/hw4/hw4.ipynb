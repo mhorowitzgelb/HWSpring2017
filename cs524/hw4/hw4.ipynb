{
 "cells": [
  {
   "cell_type": "markdown",
   "metadata": {},
   "source": [
    "# Question 1"
   ]
  },
  {
   "cell_type": "code",
   "execution_count": 3,
   "metadata": {
    "collapsed": false
   },
   "outputs": [
    {
     "data": {
      "text/html": [
       "<table class=\"data-frame\"><thead><tr><th></th><th>x1</th><th>x2</th></tr></thead><tbody><tr><th>1</th><td>-0.9188</td><td>-1.0773</td></tr><tr><th>2</th><td>-0.6159</td><td>-0.9419</td></tr><tr><th>3</th><td>0.1959</td><td>-0.0915</td></tr><tr><th>4</th><td>-0.0316</td><td>0.0245</td></tr><tr><th>5</th><td>-1.3455</td><td>-1.3239</td></tr><tr><th>6</th><td>-0.0513</td><td>-0.3536</td></tr><tr><th>7</th><td>0.1471</td><td>0.1032</td></tr><tr><th>8</th><td>-1.1615</td><td>-1.0702</td></tr><tr><th>9</th><td>0.5478</td><td>0.2722</td></tr><tr><th>10</th><td>0.6096</td><td>0.9127</td></tr><tr><th>11</th><td>-0.9706</td><td>-0.4672</td></tr><tr><th>12</th><td>0.3018</td><td>0.1654</td></tr><tr><th>13</th><td>0.2039</td><td>0.3515</td></tr><tr><th>14</th><td>-1.6833</td><td>-1.5158</td></tr><tr><th>15</th><td>0.0057</td><td>-0.2207</td></tr><tr><th>16</th><td>1.4925</td><td>1.5337</td></tr><tr><th>17</th><td>0.0113</td><td>1.2458</td></tr><tr><th>18</th><td>-1.3563</td><td>-0.8868</td></tr><tr><th>19</th><td>-1.288</td><td>-1.488</td></tr><tr><th>20</th><td>-0.6159</td><td>-0.9394</td></tr><tr><th>21</th><td>-0.639</td><td>-0.884</td></tr><tr><th>22</th><td>-0.9488</td><td>-1.2152</td></tr><tr><th>23</th><td>-0.3364</td><td>-0.6755</td></tr><tr><th>24</th><td>0.8631</td><td>0.6695</td></tr><tr><th>25</th><td>1.4679</td><td>2.0192</td></tr><tr><th>26</th><td>1.0442</td><td>2.4178</td></tr><tr><th>27</th><td>0.4562</td><td>1.6812</td></tr><tr><th>28</th><td>0.6309</td><td>1.2713</td></tr><tr><th>29</th><td>1.3197</td><td>1.8668</td></tr><tr><th>30</th><td>1.5108</td><td>2.6653</td></tr><tr><th>&vellip;</th><td>&vellip;</td><td>&vellip;</td></tr></tbody></table>"
      ],
      "text/plain": [
       "100×2 DataFrames.DataFrame\n",
       "│ Row │ x1      │ x2      │\n",
       "├─────┼─────────┼─────────┤\n",
       "│ 1   │ -0.9188 │ -1.0773 │\n",
       "│ 2   │ -0.6159 │ -0.9419 │\n",
       "│ 3   │ 0.1959  │ -0.0915 │\n",
       "│ 4   │ -0.0316 │ 0.0245  │\n",
       "│ 5   │ -1.3455 │ -1.3239 │\n",
       "│ 6   │ -0.0513 │ -0.3536 │\n",
       "│ 7   │ 0.1471  │ 0.1032  │\n",
       "│ 8   │ -1.1615 │ -1.0702 │\n",
       "│ 9   │ 0.5478  │ 0.2722  │\n",
       "│ 10  │ 0.6096  │ 0.9127  │\n",
       "│ 11  │ -0.9706 │ -0.4672 │\n",
       "⋮\n",
       "│ 89  │ 0.205   │ 1.2934  │\n",
       "│ 90  │ -0.8645 │ -0.3791 │\n",
       "│ 91  │ 0.1419  │ -0.0276 │\n",
       "│ 92  │ 0.2251  │ 0.2533  │\n",
       "│ 93  │ -0.4831 │ -0.3436 │\n",
       "│ 94  │ -0.1577 │ -0.3082 │\n",
       "│ 95  │ -0.7281 │ -0.8429 │\n",
       "│ 96  │ 0.1397  │ -0.1449 │\n",
       "│ 97  │ 0.0851  │ 0.1008  │\n",
       "│ 98  │ -0.2105 │ -0.1442 │\n",
       "│ 99  │ -0.011  │ -0.0843 │\n",
       "│ 100 │ -0.2845 │ -0.3122 │"
      ]
     },
     "execution_count": 3,
     "metadata": {},
     "output_type": "execute_result"
    }
   ],
   "source": [
    "using DataFrames\n",
    "df = readtable(\"uy_data.csv\",header=false)"
   ]
  },
  {
   "cell_type": "code",
   "execution_count": 22,
   "metadata": {
    "collapsed": false
   },
   "outputs": [
    {
     "data": {
      "text/plain": [
       "100-element Array{Any,1}:\n",
       " -0.9188\n",
       " -0.6159\n",
       "  0.1959\n",
       " -0.0316\n",
       " -1.3455\n",
       " -0.0513\n",
       "  0.1471\n",
       " -1.1615\n",
       "  0.5478\n",
       "  0.6096\n",
       " -0.9706\n",
       "  0.3018\n",
       "  0.2039\n",
       "  ⋮     \n",
       "  0.205 \n",
       " -0.8645\n",
       "  0.1419\n",
       "  0.2251\n",
       " -0.4831\n",
       " -0.1577\n",
       " -0.7281\n",
       "  0.1397\n",
       "  0.0851\n",
       " -0.2105\n",
       " -0.011 \n",
       " -0.2845"
      ]
     },
     "execution_count": 22,
     "metadata": {},
     "output_type": "execute_result"
    }
   ],
   "source": [
    "y_vals = []\n",
    "for val in df[:,1]\n",
    "    append!(y_vals,val)\n",
    "end\n",
    "y_vals"
   ]
  },
  {
   "cell_type": "code",
   "execution_count": 23,
   "metadata": {
    "collapsed": false
   },
   "outputs": [
    {
     "name": "stderr",
     "output_type": "stream",
     "text": [
      "\u001b[1m\u001b[34mINFO: Recompiling stale cache file /home/max/.julia/lib/v0.5/Clp.ji for module Clp.\n",
      "\u001b[0m"
     ]
    },
    {
     "data": {
      "text/plain": [
       ":Optimal"
      ]
     },
     "execution_count": 23,
     "metadata": {},
     "output_type": "execute_result"
    }
   ],
   "source": [
    "k  = 5\n",
    "using JuMP, Gurobi\n",
    "\n",
    "\n",
    "m = Model()\n",
    "@variable(m,y[1:length(y_vals)])\n",
    "@variable(m,y_pred[1:length(y_vals)])\n",
    "@variable(m, b[1:k])\n",
    "\n",
    "@constraint(m, )[]\n",
    "solve(m)"
   ]
  },
  {
   "cell_type": "code",
   "execution_count": null,
   "metadata": {
    "collapsed": true
   },
   "outputs": [],
   "source": []
  }
 ],
 "metadata": {
  "anaconda-cloud": {},
  "kernelspec": {
   "display_name": "Julia 0.5.0",
   "language": "julia",
   "name": "julia-0.5"
  },
  "language_info": {
   "file_extension": ".jl",
   "mimetype": "application/julia",
   "name": "julia",
   "version": "0.5.0"
  }
 },
 "nbformat": 4,
 "nbformat_minor": 1
}
