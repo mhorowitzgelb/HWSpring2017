{
 "cells": [
  {
   "cell_type": "markdown",
   "metadata": {},
   "source": [
    "# Question 1"
   ]
  },
  {
   "cell_type": "code",
   "execution_count": 17,
   "metadata": {
    "collapsed": false
   },
   "outputs": [
    {
     "data": {
      "text/plain": [
       "15-element Array{String,1}:\n",
       " \"Manuel\" \n",
       " \"Luca\"   \n",
       " \"Jule\"   \n",
       " \"Michael\"\n",
       " \"Malte\"  \n",
       " \"Chris\"  \n",
       " \"Spyros\" \n",
       " \"Mirjam\" \n",
       " \"Matt\"   \n",
       " \"Florian\"\n",
       " \"Josep\"  \n",
       " \"Joel\"   \n",
       " \"Tom\"    \n",
       " \"Daniel\" \n",
       " \"Anne\"   "
      ]
     },
     "execution_count": 17,
     "metadata": {},
     "output_type": "execute_result"
    }
   ],
   "source": [
    "free_matrix = \n",
    "[\n",
    "0 0 1 1 0 0 0 1 1 0 0 0 0;\n",
    "0 1 1 0 0 0 0 0 1 1 0 0 0;\n",
    "0 0 0 1 1 0 1 1 0 1 1 1 1;\n",
    "0 0 0 1 1 1 1 1 1 1 1 1 0;\n",
    "0 0 0 0 0 0 1 1 1 0 0 0 0;\n",
    "0 1 1 0 0 0 0 0 1 1 0 0 0;\n",
    "0 0 0 1 1 1 1 0 0 0 0 0 0;\n",
    "1 1 0 0 0 0 0 0 0 0 1 1 1;\n",
    "1 1 1 0 0 0 0 0 0 1 1 0 0;\n",
    "0 0 0 0 0 0 0 1 1 0 0 0 0;\n",
    "0 0 0 0 0 0 1 1 1 0 0 0 0;\n",
    "1 1 0 0 0 1 1 1 1 0 0 1 1;\n",
    "1 1 1 0 1 1 0 0 0 0 0 1 1;\n",
    "0 1 1 1 0 0 0 0 0 0 0 0 0;\n",
    "1 1 0 0 1 1 0 0 0 0 0 0 0;\n",
    "]\n",
    "\n",
    "demand = [1 1 1 1 1 1 3 1 1 1 1 1 1]\n",
    "times = [\"10:00\", \"10:20\" ,\"10:40\", \"11:00\", \"11:20\", \"11:40\", \"Lunch\", \"1:00\", \"1:20\", \"1:40\" , \"2:00\", \"2:20\", \"2:40\"]\n",
    "names = [\"Manuel\" , \"Luca\" , \"Jule\" , \"Michael\", \"Malte\", \"Chris\", \"Spyros\", \"Mirjam\", \"Matt\", \"Florian\", \"Josep\", \"Joel\" ,\"Tom\" , \"Daniel\" ,\"Anne\"]"
   ]
  },
  {
   "cell_type": "code",
   "execution_count": 28,
   "metadata": {
    "collapsed": false
   },
   "outputs": [
    {
     "data": {
      "text/plain": [
       ":Optimal"
      ]
     },
     "execution_count": 28,
     "metadata": {},
     "output_type": "execute_result"
    }
   ],
   "source": [
    "using JuMP\n",
    "m = Model()\n",
    "@variable(m, x[1:15,1:13] >= 0)\n",
    "for i in 1:15\n",
    "    @constraint(m , dot(x[i,:], free_matrix[i,:]) == 1)\n",
    "end\n",
    "for i in 1:13\n",
    "    @constraint(m, sum(x[:,i]) == demand[i])\n",
    "end\n",
    "solve(m)"
   ]
  },
  {
   "cell_type": "markdown",
   "metadata": {},
   "source": [
    "### Final Schedule"
   ]
  },
  {
   "cell_type": "code",
   "execution_count": 29,
   "metadata": {
    "collapsed": false
   },
   "outputs": [
    {
     "name": "stdout",
     "output_type": "stream",
     "text": [
      "10:00: Joel \n",
      "10:20: Chris \n",
      "10:40: Tom \n",
      "11:00: Daniel \n",
      "11:20: Anne \n",
      "11:40: Spyros \n",
      "Lunch: Michael Malte Josep \n",
      "1:00: Manuel \n",
      "1:20: Florian \n",
      "1:40: Luca \n",
      "2:00: Matt \n",
      "2:20: Mirjam \n",
      "2:40: Jule \n"
     ]
    }
   ],
   "source": [
    "x_val = getvalue(x)\n",
    "for t in 1:13\n",
    "    print(times[t], \": \")\n",
    "    for i in 1:15\n",
    "        if x_val[i, t] > 0\n",
    "            print(names[i] , \" \")\n",
    "        end\n",
    "    end\n",
    "    println()\n",
    "end"
   ]
  },
  {
   "cell_type": "markdown",
   "metadata": {},
   "source": [
    "# Question 2"
   ]
  },
  {
   "cell_type": "code",
   "execution_count": 38,
   "metadata": {
    "collapsed": false
   },
   "outputs": [
    {
     "data": {
      "text/plain": [
       "10×10 Array{Float64,2}:\n",
       "    0.0  800.0  424.0  1044.0  1225.0  1714.0   754.0   125.0   121.0   229.0\n",
       "  800.0    0.0  104.0   164.0   625.0   194.0   274.0   325.0   481.0   349.0\n",
       "  424.0  104.0    0.0   148.0   389.0   450.0   458.0   169.0   149.0   281.0\n",
       " 1044.0  164.0  148.0     0.0   169.0   178.0   850.0   629.0   505.0   793.0\n",
       " 1225.0  625.0  389.0   169.0     0.0   629.0  1629.0  1000.0   576.0  1314.0\n",
       " 1714.0  194.0  450.0   178.0   629.0     0.0   788.0  1009.0  1109.0  1061.0\n",
       "  754.0  274.0  458.0   850.0  1629.0   788.0     0.0   289.0   765.0   153.0\n",
       "  125.0  325.0  169.0   629.0  1000.0  1009.0   289.0     0.0   136.0    34.0\n",
       "  121.0  481.0  149.0   505.0   576.0  1109.0   765.0   136.0     0.0   306.0\n",
       "  229.0  349.0  281.0   793.0  1314.0  1061.0   153.0    34.0   306.0     0.0"
      ]
     },
     "execution_count": 38,
     "metadata": {},
     "output_type": "execute_result"
    }
   ],
   "source": [
    "pos = [\n",
    "    0 20 18 30 35 33 5 5 11 2;\n",
    "    0 20 10 12 0 25 27 10 0 15\n",
    "]\n",
    "required = [10 6 8 11 9 7 15 7 9 12]\n",
    "present = [8 13 4 8 12 2 14 11 15 7]\n",
    "distances = zeros( 10,10)\n",
    "for i in 1:10\n",
    "    for j in 1:10\n",
    "        delta = pos[:,i] - pos[:,j]\n",
    "        distances[i,j] = dot(delta,delta)\n",
    "    end\n",
    "end\n"
   ]
  },
  {
   "cell_type": "code",
   "execution_count": 41,
   "metadata": {
    "collapsed": false
   },
   "outputs": [
    {
     "data": {
      "text/plain": [
       ":Optimal"
      ]
     },
     "execution_count": 41,
     "metadata": {},
     "output_type": "execute_result"
    }
   ],
   "source": [
    "m = Model()\n",
    "@variable(m, x[1:10,1:10] >= 0)\n",
    "for i in 1:10\n",
    "    @constraint(m, sum(x[:,i]) - sum(x[i,:]) + present[i] == required[i])\n",
    "end\n",
    "@objective(m,Min, sum(distances .* x))\n",
    "solve(m)"
   ]
  },
  {
   "cell_type": "markdown",
   "metadata": {},
   "source": [
    "### Optimal movement is"
   ]
  },
  {
   "cell_type": "code",
   "execution_count": 47,
   "metadata": {
    "collapsed": false
   },
   "outputs": [
    {
     "name": "stdout",
     "output_type": "stream",
     "text": [
      "Agency 2 sends 1.0 cars to agency 3\n",
      "Agency 2 sends 5.0 cars to agency 6\n",
      "Agency 2 sends 1.0 cars to agency 7\n",
      "Agency 5 sends 3.0 cars to agency 4\n",
      "Agency 8 sends 5.0 cars to agency 10\n",
      "Agency 9 sends 2.0 cars to agency 1\n",
      "Agency 9 sends 3.0 cars to agency 3\n",
      "Agency 9 sends 1.0 cars to agency 8\n"
     ]
    }
   ],
   "source": [
    "x_val = getvalue(x)\n",
    "\n",
    "for i in 1:10\n",
    "    for j in 1:10\n",
    "        val = x_val[i,j]\n",
    "        if val > 0\n",
    "            println(\"Agency \", i , \" sends \" ,  x_val[i,j] , \" cars to agency \", j )\n",
    "        end\n",
    "    end\n",
    "end"
   ]
  },
  {
   "cell_type": "markdown",
   "metadata": {},
   "source": [
    "# Question 3\n",
    "## a."
   ]
  },
  {
   "cell_type": "code",
   "execution_count": 53,
   "metadata": {
    "collapsed": true
   },
   "outputs": [],
   "source": [
    "duration = [2; 16; 9 ; 8; 10 ; 6 ; 2 ;2 ; 9 ; 5 ;3 ;2 ;1 ;7 ;4 ;3 ;9 ;1; 0]\n",
    "pred = zeros(19,19)\n",
    "pred[2,1]=1\n",
    "pred[3,2]=1\n",
    "pred[4,2]=1\n",
    "pred[5,3]=1\n",
    "pred[6,4] = 1\n",
    "pred[6,5] = 1\n",
    "pred[7,4] =1\n",
    "pred[8,6] = 1\n",
    "pred[9,4] = 1\n",
    "pred[9,6] = 1\n",
    "pred[10,4] = 1\n",
    "pred[11,6] = 1\n",
    "pred[12,9] = 1\n",
    "pred[13,7] = 1\n",
    "pred[14,2] = 1\n",
    "pred[15,4] = 1\n",
    "pred[15,14] = 1\n",
    "pred[16,8] = 1\n",
    "pred[16,11] = 1\n",
    "pred[16,14] = 1\n",
    "pred[17,12] =1\n",
    "pred[18,17] = 1\n",
    "for i in 1:18\n",
    "    pred[19,i] = 1\n",
    "end\n",
    "\n"
   ]
  },
  {
   "cell_type": "code",
   "execution_count": 61,
   "metadata": {
    "collapsed": false
   },
   "outputs": [
    {
     "data": {
      "text/plain": [
       ":Optimal"
      ]
     },
     "execution_count": 61,
     "metadata": {},
     "output_type": "execute_result"
    }
   ],
   "source": [
    "m = Model()\n",
    "@variable(m, x[1:19] >= 0)\n",
    "for i in 1:19\n",
    "    for j in 1:19\n",
    "        if pred[i,j] > 0\n",
    "            @constraint(m, x[i] >= x[j] + duration[j])\n",
    "        end\n",
    "    end\n",
    "end\n",
    "@objective(m,Min, x[19])\n",
    "solve(m)\n"
   ]
  },
  {
   "cell_type": "markdown",
   "metadata": {},
   "source": [
    "### The earliest possible time to finish is "
   ]
  },
  {
   "cell_type": "code",
   "execution_count": 63,
   "metadata": {
    "collapsed": false
   },
   "outputs": [
    {
     "data": {
      "text/plain": [
       "64.0"
      ]
     },
     "execution_count": 63,
     "metadata": {},
     "output_type": "execute_result"
    }
   ],
   "source": [
    "getobjectivevalue(m)"
   ]
  },
  {
   "cell_type": "markdown",
   "metadata": {},
   "source": [
    "## b."
   ]
  },
  {
   "cell_type": "code",
   "execution_count": 72,
   "metadata": {
    "collapsed": false
   },
   "outputs": [
    {
     "name": "stderr",
     "output_type": "stream",
     "text": [
      "\u001b[1m\u001b[31mWARNING: Not solved to optimality, status: Infeasible\u001b[0m\n"
     ]
    }
   ],
   "source": [
    "max_reduction = [0; 3; 1; 2; 2; 1; 1; 0; 2; 1; 1; 0; 0; 2; 2; 1; 3; 0]\n",
    "reduction_cost = [0; 30; 26; 12; 17; 15; 8; 0; 42; 21; 18; 0 ; 0; 22; 12; 6; 16; 0]\n",
    "\n",
    "times = zeros(0)\n",
    "costs = zeros(0)\n",
    "\n",
    "for weeks_early in 0:64\n",
    "    m = Model()\n",
    "    @variable(m, x[1:19] >= 0)\n",
    "    @variable(m, reduc[1:18]>=0)\n",
    "    for i in 1:19\n",
    "        for j in 1:19\n",
    "            if pred[i,j] > 0\n",
    "                @constraint(m, x[i] >= x[j] + duration[j] - reduc[j])\n",
    "            end\n",
    "        end\n",
    "    end\n",
    "    @constraint(m,x[19] == 64 - weeks_early)\n",
    "    @constraint(m, reduc .<= max_reduction)\n",
    "    @objective(m,Min, dot(reduction_cost,reduc))\n",
    "    solve(m)\n",
    "    cost = getobjectivevalue(m)\n",
    "    if isnan(cost)\n",
    "        break\n",
    "    end\n",
    "    append!(times, weeks_early)\n",
    "    append!(costs, cost)\n",
    "end\n",
    "    "
   ]
  },
  {
   "cell_type": "code",
   "execution_count": 74,
   "metadata": {
    "collapsed": false
   },
   "outputs": [
    {
     "data": {
      "image/png": "[encoded data removed]",
      "text/plain": [
       "PyPlot.Figure(PyObject <matplotlib.figure.Figure object at 0x7fa04fbd0940>)"
      ]
     },
     "metadata": {},
     "output_type": "display_data"
    },
    {
     "data": {
      "text/plain": [
       "PyObject <matplotlib.text.Text object at 0x7fa04fc0ca20>"
      ]
     },
     "execution_count": 74,
     "metadata": {},
     "output_type": "execute_result"
    }
   ],
   "source": [
    "using PyPlot\n",
    "plot(times,costs)\n",
    "xlabel(\"Weeks Reduced\")\n",
    "ylabel(\"Cost \")"
   ]
  },
  {
   "cell_type": "code",
   "execution_count": 75,
   "metadata": {
    "collapsed": false
   },
   "outputs": [
    {
     "data": {
      "text/plain": [
       "13-element Array{Float64,1}:\n",
       "  0.0\n",
       "  1.0\n",
       "  2.0\n",
       "  3.0\n",
       "  4.0\n",
       "  5.0\n",
       "  6.0\n",
       "  7.0\n",
       "  8.0\n",
       "  9.0\n",
       " 10.0\n",
       " 11.0\n",
       " 12.0"
      ]
     },
     "execution_count": 75,
     "metadata": {},
     "output_type": "execute_result"
    }
   ],
   "source": [
    "times"
   ]
  },
  {
   "cell_type": "markdown",
   "metadata": {},
   "source": [
    "## c.\n",
    "\n",
    "### To maximize profit the project will be completed"
   ]
  },
  {
   "cell_type": "code",
   "execution_count": 76,
   "metadata": {
    "collapsed": false
   },
   "outputs": [
    {
     "name": "stdout",
     "output_type": "stream",
     "text": [
      "7.0 weeks early.\n"
     ]
    }
   ],
   "source": [
    "m = Model()\n",
    "@variable(m, x[1:19] >= 0)\n",
    "@variable(m, reduc[1:18]>=0)\n",
    "@variable(m, weeks_early >= 0)\n",
    "\n",
    "for i in 1:19\n",
    "    for j in 1:19\n",
    "        if pred[i,j] > 0\n",
    "            @constraint(m, x[i] >= x[j] + duration[j] - reduc[j])\n",
    "        end\n",
    "    end\n",
    "end\n",
    "@constraint(m,x[19] == 64 - weeks_early)\n",
    "@constraint(m, reduc .<= max_reduction)\n",
    "@objective(m,Max, 30 * weeks_early - dot(reduction_cost,reduc))\n",
    "solve(m)\n",
    "println(getvalue(weeks_early) , \" weeks early.\")"
   ]
  },
  {
   "cell_type": "code",
   "execution_count": null,
   "metadata": {
    "collapsed": true
   },
   "outputs": [],
   "source": []
  }
 ],
 "metadata": {
  "anaconda-cloud": {},
  "kernelspec": {
   "display_name": "Julia 0.5.0",
   "language": "julia",
   "name": "julia-0.5"
  },
  "language_info": {
   "file_extension": ".jl",
   "mimetype": "application/julia",
   "name": "julia",
   "version": "0.5.0"
  }
 },
 "nbformat": 4,
 "nbformat_minor": 1
}
