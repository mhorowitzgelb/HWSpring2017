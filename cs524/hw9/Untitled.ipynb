{
 "cells": [
  {
   "cell_type": "markdown",
   "metadata": {},
   "source": [
    "# Q1"
   ]
  },
  {
   "cell_type": "code",
   "execution_count": 14,
   "metadata": {},
   "outputs": [
    {
     "name": "stdout",
     "output_type": "stream",
     "text": [
      "\n",
      "******************************************************************************\n",
      "This program contains Ipopt, a library for large-scale nonlinear optimization.\n",
      " Ipopt is released as open source code under the Eclipse Public License (EPL).\n",
      "         For more information visit http://projects.coin-or.org/Ipopt\n",
      "******************************************************************************\n",
      "\n",
      "This is Ipopt version 3.12.1, running with linear solver mumps.\n",
      "NOTE: Other linear solvers might be more efficient (see Ipopt documentation).\n",
      "\n",
      "Number of nonzeros in equality constraint Jacobian...:       30\n",
      "Number of nonzeros in inequality constraint Jacobian.:       70\n",
      "Number of nonzeros in Lagrangian Hessian.............:      206\n",
      "\n",
      "Total number of variables............................:       18\n",
      "                     variables with only lower bounds:       18\n",
      "                variables with lower and upper bounds:        0\n",
      "                     variables with only upper bounds:        0\n",
      "Total number of equality constraints.................:        7\n",
      "Total number of inequality constraints...............:       20\n",
      "        inequality constraints with only lower bounds:        5\n",
      "   inequality constraints with lower and upper bounds:        0\n",
      "        inequality constraints with only upper bounds:       15\n",
      "\n",
      "iter    objective    inf_pr   inf_du lg(mu)  ||d||  lg(rg) alpha_du alpha_pr  ls\n",
      "   0 -5.9999940e-02 6.27e+00 1.00e+00  -1.0 0.00e+00    -  0.00e+00 0.00e+00   0\n",
      "   1 -8.8795870e-04 5.93e-02 6.11e+02  -1.0 6.27e+00    -  1.60e-03 9.91e-01f  1\n",
      "   2 -1.4181101e-01 4.75e-01 4.05e+02  -1.0 2.88e+00    -  6.63e-02 5.45e-01f  1\n",
      "   3 -1.2305618e-01 1.84e-01 2.88e+02  -1.0 3.99e-01   2.0 7.90e-02 3.42e-01h  1\n",
      "   4 -1.1425924e-01 1.20e-01 1.82e+02  -1.0 3.33e-01   1.5 3.67e-01 3.70e-01h  1\n",
      "   5 -1.8493078e-01 5.72e-02 4.73e+01  -1.0 5.55e-01   1.0 1.99e-01 1.00e+00f  1\n",
      "   6 -1.8444227e-01 4.37e-02 1.90e+01  -1.0 4.30e-01   0.6 4.97e-01 6.15e-01h  1\n",
      "   7 -2.1501264e-01 3.77e-03 1.42e+01  -1.0 2.23e-01   0.1 7.85e-01 1.00e+00f  1\n",
      "   8 -3.2461901e-01 3.98e-03 1.33e+01  -1.0 9.08e-01    -  8.05e-01 1.00e+00f  1\n",
      "   9 -3.6240438e-01 7.21e-03 1.19e+01  -1.0 7.53e-01    -  4.89e-01 1.00e+00f  1\n",
      "iter    objective    inf_pr   inf_du lg(mu)  ||d||  lg(rg) alpha_du alpha_pr  ls\n",
      "  10 -4.7489718e-01 9.41e-02 4.91e+01  -1.0 9.93e-01    -  1.92e-01 1.00e+00f  1\n",
      "  11 -4.9092569e-01 2.56e-03 6.07e+00  -1.0 2.30e-01   1.4 1.00e+00 1.00e+00h  1\n",
      "  12 -4.8272453e-01 1.05e-04 3.18e-01  -1.0 2.49e-02   0.9 1.00e+00 1.00e+00h  1\n",
      "  13 -5.1432062e-01 7.71e-03 5.72e-01  -1.7 6.06e-01    -  7.81e-01 1.00e+00h  1\n",
      "  14 -5.6626155e-01 6.91e-03 4.20e-02  -1.7 5.31e-01    -  1.00e+00 1.00e+00h  1\n",
      "  15 -5.7705414e-01 1.65e-04 1.24e-01  -2.5 4.24e-02   0.5 1.00e+00 1.00e+00h  1\n",
      "  16 -6.2025168e-01 2.05e-04 7.09e-02  -2.5 7.27e-02  -0.0 1.00e+00 1.00e+00h  1\n",
      "  17 -6.5554733e-01 6.66e-04 3.85e-02  -2.5 1.22e-01  -0.5 1.00e+00 5.88e-01H  1\n",
      "  18 -6.4985185e-01 4.01e-04 1.00e-02  -2.5 7.08e-02  -1.0 1.00e+00 1.00e+00f  1\n",
      "  19 -6.6613237e-01 4.30e-04 9.77e-03  -3.8 1.37e-01  -1.4 9.03e-01 6.03e-01h  1\n",
      "iter    objective    inf_pr   inf_du lg(mu)  ||d||  lg(rg) alpha_du alpha_pr  ls\n",
      "  20 -6.7398069e-01 3.27e-04 1.31e-03  -3.8 5.02e-02  -1.9 1.00e+00 9.10e-01h  1\n",
      "  21 -6.7410019e-01 2.66e-05 5.20e-05  -3.8 1.18e-02  -2.4 1.00e+00 1.00e+00f  1\n",
      "  22 -6.7496979e-01 2.67e-06 7.32e-06  -5.7 6.09e-03    -  1.00e+00 1.00e+00h  1\n",
      "  23 -6.7498143e-01 4.33e-09 1.24e-08  -8.6 3.19e-04    -  1.00e+00 1.00e+00h  1\n",
      "  24 -6.7498143e-01 5.01e-15 4.61e-10  -8.6 3.44e-07  -2.9 1.00e+00 1.00e+00h  1\n",
      "\n",
      "Number of Iterations....: 24\n",
      "\n",
      "                                   (scaled)                 (unscaled)\n",
      "Objective...............:  -6.7498143464449833e-01   -6.7498143464449833e-01\n",
      "Dual infeasibility......:   4.6098240774821479e-10    4.6098240774821479e-10\n",
      "Constraint violation....:   5.0098813986210189e-15    5.0098813986210189e-15\n",
      "Complementarity.........:   2.5059037099297819e-09    2.5059037099297819e-09\n",
      "Overall NLP error.......:   2.5059037099297819e-09    2.5059037099297819e-09\n",
      "\n",
      "\n",
      "Number of objective function evaluations             = 26\n",
      "Number of objective gradient evaluations             = 25\n",
      "Number of equality constraint evaluations            = 26\n",
      "Number of inequality constraint evaluations          = 26\n",
      "Number of equality constraint Jacobian evaluations   = 25\n",
      "Number of inequality constraint Jacobian evaluations = 25\n",
      "Number of Lagrangian Hessian evaluations             = 24\n",
      "Total CPU secs in IPOPT (w/o function evaluations)   =      0.188\n",
      "Total CPU secs in NLP function evaluations           =      0.048\n",
      "\n",
      "EXIT: Optimal Solution Found.\n"
     ]
    },
    {
     "data": {
      "text/plain": [
       ":Optimal"
      ]
     },
     "execution_count": 14,
     "metadata": {},
     "output_type": "execute_result"
    }
   ],
   "source": [
    "using JuMP, Ipopt\n",
    "\n",
    "m = Model(solver = IpoptSolver())\n",
    "#Polar coordinate theta\n",
    "@variable(m, theta[1:6] >= 0)\n",
    "\n",
    "#Polar coordiante radius \n",
    "@variable(m, r[1:6] >= 0)\n",
    "\n",
    "#Areas of subtriangles\n",
    "@variable(m, area[1:6] >= 0)\n",
    "\n",
    "#Angles are increasing\n",
    "for i in 2:6\n",
    "    @constraint(m, theta[i] >= theta[i-1])\n",
    "end\n",
    "\n",
    "#distances between points less than 1\n",
    "@constraint(m, theta[6] == 2pi)\n",
    "for i in 1:5\n",
    "    for j in (i+1):6\n",
    "        @NLconstraint(m, \n",
    "            (r[i]cos(theta[i]) - r[j]cos(theta[j]))^2 + \n",
    "            (r[i]sin(theta[i]) - r[j]sin(theta[j]))^2 <= 1)\n",
    "        end\n",
    "    end\n",
    "@NLconstraint(m, area[1] == sin(theta[1])r[1]r[6]/2)\n",
    "for i in 2:6\n",
    "        @NLconstraint(m,area[i] == sin(theta[i] - theta[i-1])r[i]r[i-1]/2)\n",
    "end\n",
    "@objective(m, Max, sum(area))\n",
    "\n",
    "solve(m)"
   ]
  },
  {
   "cell_type": "code",
   "execution_count": 16,
   "metadata": {},
   "outputs": [
    {
     "name": "stdout",
     "output_type": "stream",
     "text": [
      "Optimal total area: 0.6749814346444984"
     ]
    }
   ],
   "source": [
    "area_val = getvalue(area)\n",
    "print(\"Optimal total area: \", sum(area_val))"
   ]
  },
  {
   "cell_type": "code",
   "execution_count": 33,
   "metadata": {},
   "outputs": [
    {
     "data": {
      "image/png": "[encoded data removed]",
      "text/plain": [
       "PyPlot.Figure(PyObject <matplotlib.figure.Figure object at 0x7fdab6aef190>)"
      ]
     },
     "metadata": {},
     "output_type": "display_data"
    },
    {
     "name": "stdout",
     "output_type": "stream",
     "text": [
      "Max distance squared, 0.9999999954210722"
     ]
    }
   ],
   "source": [
    "using PyPlot\n",
    "theta_val = getvalue(theta)\n",
    "r_val = getvalue(r)\n",
    "x = cos(theta_val).*r_val\n",
    "y = sin(theta_val).*r_val\n",
    "plot(x,y,\"r\")\n",
    "plot([x[6],x[1]],[y[6],y[1]], \"r\" )\n",
    "\n",
    "max_val =0\n",
    "for i in 1:5\n",
    "    for j in i+1:6\n",
    "        dist = (x[i] - x[j])^2 + (y[i] - y[j])^2\n",
    "        max_val = max(max_val, dist)\n",
    "    end\n",
    "end\n",
    "print(\"Max distance squared, \",max_val)"
   ]
  },
  {
   "cell_type": "markdown",
   "metadata": {},
   "source": [
    "# Q2"
   ]
  },
  {
   "cell_type": "code",
   "execution_count": 57,
   "metadata": {},
   "outputs": [
    {
     "data": {
      "text/plain": [
       "6-element Array{Int64,1}:\n",
       " 127\n",
       " 151\n",
       " 379\n",
       " 421\n",
       " 460\n",
       " 426"
      ]
     },
     "execution_count": 57,
     "metadata": {},
     "output_type": "execute_result"
    }
   ],
   "source": [
    "x = [-5; -3; -1; 1; 3; 5]\n",
    "y = [127; 151; 379; 421; 460; 426]"
   ]
  },
  {
   "cell_type": "code",
   "execution_count": 58,
   "metadata": {},
   "outputs": [
    {
     "name": "stdout",
     "output_type": "stream",
     "text": [
      "This is Ipopt version 3.12.1, running with linear solver mumps.\n",
      "NOTE: Other linear solvers might be more efficient (see Ipopt documentation).\n",
      "\n",
      "Number of nonzeros in equality constraint Jacobian...:       24\n",
      "Number of nonzeros in inequality constraint Jacobian.:        0\n",
      "Number of nonzeros in Lagrangian Hessian.............:       24\n",
      "\n",
      "Total number of variables............................:        9\n",
      "                     variables with only lower bounds:        0\n",
      "                variables with lower and upper bounds:        0\n",
      "                     variables with only upper bounds:        0\n",
      "Total number of equality constraints.................:        6\n",
      "Total number of inequality constraints...............:        0\n",
      "        inequality constraints with only lower bounds:        0\n",
      "   inequality constraints with lower and upper bounds:        0\n",
      "        inequality constraints with only upper bounds:        0\n",
      "\n",
      "iter    objective    inf_pr   inf_du lg(mu)  ||d||  lg(rg) alpha_du alpha_pr  ls\n",
      "   0  7.5288800e+05 0.00e+00 6.57e+01  -1.0 0.00e+00    -  0.00e+00 0.00e+00   0\n",
      "   1  7.5286220e+05 2.90e-06 6.57e+01  -1.0 6.57e-03   4.0 1.00e+00 1.00e+00f  1\n",
      "   2  7.5278464e+05 1.08e-04 6.59e+01  -1.0 1.98e-02   3.5 1.00e+00 1.00e+00f  1\n",
      "   3  7.5254679e+05 4.61e-03 6.90e+01  -1.0 6.21e-02   3.0 1.00e+00 1.00e+00f  1\n",
      "   4  7.5145309e+05 7.59e+00 3.13e+03  -1.0 5.35e-01   2.6 1.00e+00 1.00e+00f  1\n",
      "   5  7.5144219e+05 1.23e-01 4.58e+02  -1.0 4.62e-01   3.0 1.00e+00 1.00e+00h  1\n",
      "   6  7.5134899e+05 2.37e-03 1.20e+02  -1.0 4.56e-02   3.4 1.00e+00 1.00e+00f  1\n",
      "   7  7.5103873e+05 1.67e-02 1.07e+02  -1.0 1.22e-01   2.9 1.00e+00 1.00e+00f  1\n",
      "   8  7.5008067e+05 2.23e-01 1.08e+02  -1.0 3.71e-01   2.5 1.00e+00 1.00e+00f  1\n",
      "Warning: SOC step rejected due to evaluation error\n",
      "   9  7.4746701e+05 1.58e+03 2.87e+05  -1.0 3.63e+00   2.0 1.00e+00 5.00e-01f  2\n",
      "iter    objective    inf_pr   inf_du lg(mu)  ||d||  lg(rg) alpha_du alpha_pr  ls\n",
      "  10  1.3177375e+05 9.31e+02 9.73e+04  -1.0 4.25e+02    -  1.00e+00 1.00e+00f  1\n",
      "  11  2.7050959e+05 8.82e+02 5.94e+04  -1.0 7.61e+02    -  1.00e+00 2.50e-01h  3\n",
      "  12  2.6167327e+05 7.64e+02 6.71e+04  -1.0 3.82e+01   1.5 1.00e+00 1.00e+00f  1\n",
      "Warning: Cutting back alpha due to evaluation error\n",
      "Warning: Cutting back alpha due to evaluation error\n",
      "Warning: Cutting back alpha due to evaluation error\n",
      "  13  2.6280492e+05 7.66e+02 1.59e+05  -1.0 1.15e+04   2.8 1.00e+00 4.88e-04h 12\n",
      "Warning: SOC step rejected due to evaluation error\n",
      "  14  1.9467995e+05 6.79e+02 1.54e+06  -1.0 5.52e+02   3.3 1.00e+00 1.25e-01f  4\n",
      "Warning: SOC step rejected due to evaluation error\n",
      "  15  1.1013035e+05 5.06e+02 3.47e+07  -1.0 5.17e+02   3.7 1.00e+00 2.50e-01f  3\n",
      "Warning: SOC step rejected due to evaluation error\n",
      "  16  1.1120655e+05 4.34e+02 1.45e+09  -1.0 1.66e+02   5.9 1.00e+00 1.56e-02h  7\n",
      "Warning: SOC step rejected due to evaluation error\n",
      "  17  1.0128685e+05 5.36e+03 1.62e+14  -1.0 8.51e+01   8.2 1.00e+00 5.00e-01f  2\n",
      "  18  5.6866846e+04 9.57e+02 3.59e+13  -1.0 3.92e+02  10.4 1.00e+00 2.50e-01f  3\n",
      "Warning: SOC step rejected due to evaluation error\n",
      "  19  5.5192247e+04 3.75e+03 2.78e+14  -1.0 8.17e+02  10.8 1.00e+00 1.56e-02f  7\n",
      "iter    objective    inf_pr   inf_du lg(mu)  ||d||  lg(rg) alpha_du alpha_pr  ls\n",
      "  20  8.6789494e+04 6.00e+02 2.72e+14  -1.0 3.21e+02  10.3 1.00e+00 1.00e+00h  1\n",
      "  21  9.7683585e+04 1.86e+02 6.21e+13  -1.0 3.74e+01   9.9 1.00e+00 1.00e+00h  1\n",
      "  22  9.8052778e+04 4.61e+01 1.72e+13  -1.0 7.30e+00   9.4 1.00e+00 1.00e+00h  1\n",
      "  23  9.8049710e+04 6.77e+00 3.60e+12  -1.0 6.10e+00   8.9 1.00e+00 1.00e+00h  1\n",
      "  24  9.8060514e+04 2.13e-01 1.86e+11  -1.0 9.97e-01   8.4 1.00e+00 1.00e+00h  1\n",
      "  25  9.8061506e+04 1.73e-04 2.93e+08  -1.0 4.62e-03   8.0 1.00e+00 1.00e+00h  1\n",
      "  26  9.8061506e+04 4.18e-11 6.35e+02  -1.0 5.05e-07   7.5 1.00e+00 1.00e+00h  1\n",
      "  27  9.3428981e+04 5.29e+01 4.46e+02  -1.0 2.80e+01    -  1.00e+00 1.00e+00f  1\n",
      "  28  9.1567788e+04 4.53e+01 2.92e+02  -1.0 1.01e+01    -  1.00e+00 1.00e+00f  1\n",
      "  29  8.1742767e+04 1.59e+02 1.27e+03  -1.0 2.04e+01    -  1.00e+00 1.00e+00f  1\n",
      "Warning: SOC step rejected due to evaluation error\n",
      "iter    objective    inf_pr   inf_du lg(mu)  ||d||  lg(rg) alpha_du alpha_pr  ls\n",
      "  30  7.2796683e+04 1.18e+03 5.04e+11  -1.0 2.19e+01   7.0 1.00e+00 5.00e-01f  2\n",
      "  31  7.6273031e+04 4.05e+02 1.90e+11  -1.0 2.18e+01   6.5 1.00e+00 1.00e+00h  1\n",
      "  32  8.5585765e+04 1.56e+02 7.11e+10  -1.0 5.36e+01   6.0 1.00e+00 1.00e+00h  1\n",
      "  33  9.6271444e+04 1.56e+02 6.52e+10  -1.0 7.88e+02   5.6 1.00e+00 6.25e-02h  5\n",
      "  34  9.7719266e+04 1.51e+02 6.31e+10  -1.0 1.48e+02   6.0 1.00e+00 3.12e-02h  6\n",
      "  35  9.7939855e+04 1.49e+02 6.22e+10  -1.0 3.35e+01   6.4 1.00e+00 1.56e-02h  7\n",
      "  36  9.8017332e+04 1.49e+02 6.21e+10  -1.0 2.57e+02   5.9 1.00e+00 9.77e-04h 11\n",
      "  37  9.8048900e+04 1.48e+02 6.20e+10  -1.0 4.02e+01   6.4 1.00e+00 1.95e-03h 10\n",
      "  38  4.1233262e+05 4.83e+02 1.02e+10  -1.0 4.05e+02   5.9 1.00e+00 1.00e+00s 22\n",
      "  39r 4.1233262e+05 4.83e+02 9.99e+02   2.7 0.00e+00   8.1 0.00e+00 0.00e+00R  1\n",
      "iter    objective    inf_pr   inf_du lg(mu)  ||d||  lg(rg) alpha_du alpha_pr  ls\n",
      "  40r 3.9895878e+05 7.75e+03 5.95e+04   2.7 1.29e+04    -  1.00e+00 7.30e-03f  1\n",
      "  41r 2.6720896e+05 3.41e+03 2.78e+04   2.7 4.82e+02   0.0 1.00e+00 8.01e-01f  1\n",
      "  42r 2.6796324e+05 3.21e+03 2.62e+04   2.0 6.48e+01   0.4 1.00e+00 5.95e-02f  1\n",
      "  43r 3.5451140e+05 5.34e+02 2.85e+04   2.0 9.44e+01  -0.1 1.00e+00 1.00e+00f  1\n",
      "  44r 3.5383042e+05 2.28e+02 1.69e+05   2.0 4.68e+01   1.3 1.00e+00 1.00e+00h  1\n",
      "  45r 4.2768459e+05 2.16e+02 1.28e+05   2.0 4.26e+02   0.8 2.85e-01 1.26e-01f  3\n",
      "  46r 4.2711126e+05 2.15e+02 1.28e+05   2.0 1.19e+02   2.1 6.46e-02 6.48e-03h  1\n",
      "  47r 4.2763443e+05 2.12e+02 1.29e+05   2.0 2.79e+02   1.7 2.63e-03 2.21e-02h  3\n",
      "  48r 4.2452259e+05 2.07e+02 1.24e+05   2.0 7.49e+01   2.1 1.07e-02 3.26e-02h  1\n",
      "  49r 4.1997650e+05 1.98e+02 1.29e+05   2.0 6.45e+01   2.5 8.23e-02 5.95e-02h  1\n",
      "iter    objective    inf_pr   inf_du lg(mu)  ||d||  lg(rg) alpha_du alpha_pr  ls\n",
      "  50r 3.6683237e+05 8.97e+01 4.81e+05   2.0 6.22e+01   2.0 9.11e-03 7.33e-01h  1\n",
      "  51r 3.5511002e+05 6.89e+01 2.06e+05   2.0 3.23e+01   1.6 1.00e+00 5.11e-01f  1\n",
      "  52r 3.5220609e+05 6.38e+01 1.85e+05   2.0 5.51e+01   1.1 1.00e+00 9.92e-02f  1\n",
      "  53r 3.6629609e+05 2.01e+01 1.81e+05   2.0 1.12e+04    -  1.00e+00 3.88e-03f  1\n",
      "  54r 2.1622329e+05 1.10e+02 8.49e+03   2.0 5.32e+02    -  1.00e+00 1.00e+00f  1\n",
      "  55r 2.1321926e+05 1.19e+01 5.58e+03   2.0 1.48e+01   0.6 1.00e+00 1.00e+00f  1\n",
      "  56r 1.2159396e+07 4.44e+06 4.53e+08   1.3 6.72e+03    -  1.00e+00 5.00e-01f  2\n",
      "  57r 7.3779063e+07 1.63e+06 1.65e+08   1.3 8.73e+03    -  1.00e+00 1.00e+00h  1\n",
      "  58r 2.2978537e+07 6.01e+05 6.09e+07   1.3 3.49e+03    -  1.00e+00 1.00e+00f  1\n",
      "  59r 7.6493240e+06 2.21e+05 2.25e+07   1.3 1.95e+03    -  1.00e+00 1.00e+00f  1\n",
      "iter    objective    inf_pr   inf_du lg(mu)  ||d||  lg(rg) alpha_du alpha_pr  ls\n",
      "  60r 3.2227745e+06 8.18e+04 8.29e+06   1.3 1.07e+03    -  1.00e+00 1.00e+00f  1\n",
      "  61r 2.0154422e+06 3.04e+04 3.05e+06   1.3 5.89e+02    -  1.00e+00 1.00e+00f  1\n",
      "  62r 1.7804116e+06 1.15e+04 1.12e+06   1.3 3.20e+02    -  1.00e+00 1.00e+00f  1\n",
      "  63r 1.9846292e+06 4.65e+03 4.10e+05   1.3 1.55e+02    -  1.00e+00 1.00e+00h  1\n",
      "  64r 3.4715793e+06 2.46e+03 1.37e+05   1.3 2.32e+02    -  1.00e+00 1.00e+00h  1\n",
      "  65r 3.6794359e+06 1.81e+03 2.54e+04   1.3 1.18e+02   0.1 1.00e+00 1.00e+00h  1\n",
      "  66r 3.6796633e+06 1.78e+03 6.09e+04   1.3 6.64e+02   1.4 4.56e-02 3.08e-02h  2\n",
      "  67r 3.6739912e+06 1.78e+03 6.18e+04   1.3 1.28e+03   2.8 2.81e-04 1.40e-03h  1\n",
      "  68r 3.6406414e+06 1.77e+03 6.67e+04   1.3 1.31e+03   2.3 2.75e-03 8.05e-03h  1\n",
      "  69r 3.4765375e+06 1.72e+03 1.67e+06   1.3 8.80e+02   1.8 3.08e-04 6.83e-02h  2\n",
      "iter    objective    inf_pr   inf_du lg(mu)  ||d||  lg(rg) alpha_du alpha_pr  ls\n",
      "  70r 3.4365020e+06 1.68e+03 1.30e+06   1.3 4.65e+02   2.2 1.79e-02 3.70e-02h  1\n",
      "  71r 2.9536623e+06 1.35e+03 4.64e+06   1.3 6.24e+02   1.8 7.17e-03 3.10e-01h  1\n",
      "  72r 2.8894097e+06 1.31e+03 4.31e+06   1.3 4.62e+02   2.2 4.97e-02 5.89e-02h  1\n",
      "  73r 2.0914332e+06 7.07e+02 3.33e+06   1.3 4.38e+02   1.7 8.40e-03 1.00e+00h  1\n",
      "  74r 2.0346983e+06 6.82e+02 7.73e+05   1.3 4.38e+01   1.2 1.00e+00 7.46e-01f  1\n",
      "  75r 2.0264656e+06 6.79e+02 7.36e+05   1.3 1.10e+02   0.8 1.00e+00 4.80e-02f  1\n",
      "  76r 2.0038681e+06 6.70e+02 7.00e+05   1.3 3.14e+02   0.3 1.00e+00 4.76e-02f  1\n",
      "  77r 1.9602229e+06 6.44e+02 6.74e+05   1.3 7.81e+02  -0.2 1.00e+00 3.69e-02f  1\n",
      "  78r 2.7441191e+06 3.70e+02 1.36e+06   1.3 6.30e+04    -  1.00e+00 1.00e-02f  1\n",
      "  79r 2.6957911e+06 3.67e+02 1.35e+06   1.3 1.59e+03    -  1.00e+00 6.97e-03f  1\n",
      "iter    objective    inf_pr   inf_du lg(mu)  ||d||  lg(rg) alpha_du alpha_pr  ls\n",
      "  80r 2.7713889e+05 4.01e+02 1.64e+02   1.3 1.28e+03    -  1.00e+00 9.86e-01f  1\n",
      "  81r 2.9194782e+05 1.69e+02 2.92e+03   1.3 4.94e+01  -0.7 1.00e+00 1.00e+00f  1\n",
      "  82r 1.4798370e+06 1.70e+04 1.73e+06   1.3 6.60e+02  -1.1 1.00e+00 1.00e+00f  1\n",
      "  83r 1.4010067e+06 1.60e+04 1.62e+06   1.3 5.85e+02   1.1 1.44e-01 6.47e-02h  2\n",
      "  84r 1.3953676e+06 1.57e+04 1.60e+06   1.3 5.87e+02   0.6 1.42e-02 1.46e-02h  6\n",
      "  85r 1.3953595e+06 1.57e+04 1.60e+06   1.3 3.44e+02   1.0 1.28e-03 1.05e-05h 17\n",
      "  86r 1.3329972e+06 1.44e+04 1.47e+06   1.3 3.14e+02   1.5 8.69e-02 8.69e-02s 20\n",
      "  87r 1.3289747e+06 1.43e+04 1.46e+06   1.3 3.23e+02   1.0 6.18e-03 6.18e-03s 20\n",
      "  88r 1.2729875e+06 1.30e+04 1.33e+06   1.3 2.85e+02   1.4 9.86e-02 9.86e-02s 20\n",
      "  89r 1.1784866e+06 1.05e+04 1.11e+06   1.3 2.85e+02   0.9 2.01e-01 2.01e-01s 20\n",
      "iter    objective    inf_pr   inf_du lg(mu)  ||d||  lg(rg) alpha_du alpha_pr  ls\n",
      "  90r 1.1397801e+06 9.36e+03 9.99e+05   1.3 2.07e+02   1.4 1.16e-01 1.16e-01s 20\n",
      "  91r 1.1200809e+06 7.24e+03 8.97e+05   1.3 2.35e+02   0.9 2.10e-01 2.10e-01s 20\n",
      "  92r 1.1074508e+06 6.48e+03 8.27e+05   1.3 1.42e+02   1.3 1.03e-01 1.03e-01s 20\n",
      "  93r 1.1365895e+06 6.26e+03 8.22e+05   1.3 1.03e+03   0.8 2.47e-02 2.47e-02s 20\n",
      "  94r 1.1366300e+06 6.24e+03 8.20e+05   1.3 1.57e+02   1.3 2.53e-03 2.53e-03s 20\n",
      "  95r 1.1366300e+06 6.24e+03 8.20e+05   1.3 1.14e+02   1.7 0.00e+00 0.00e+00R  1\n",
      "  96r 1.0695206e+06 5.95e+03 2.07e+05   1.3 7.07e+01   1.2 1.00e+00 1.00e+00f  1\n",
      "  97r 1.0303576e+06 5.91e+03 1.44e+05   1.3 1.86e+02   0.7 1.00e+00 2.70e-01f  1\n",
      "  98r 1.0270298e+06 5.90e+03 1.43e+05   1.3 5.97e+02   0.3 1.00e+00 7.20e-03f  1\n",
      "  99r 9.8765961e+05 5.60e+03 1.37e+05   1.3 2.95e+04  -0.2 5.40e-02 9.29e-04f  3\n",
      "iter    objective    inf_pr   inf_du lg(mu)  ||d||  lg(rg) alpha_du alpha_pr  ls\n",
      " 100r 9.1620455e+05 4.73e+03 1.01e+05   1.3 6.53e+02   0.2 1.00e+00 1.26e-01f  1\n",
      " 101r 8.9997809e+05 4.88e+03 8.33e+04   1.3 2.35e+02   0.6 1.00e+00 1.76e-01f  1\n",
      " 102r 8.5070558e+05 4.51e+03 6.36e+04   1.3 7.06e+02   0.2 1.00e+00 2.96e-01f  2\n",
      " 103r 8.8007229e+05 4.41e+03 6.30e+04   1.3 3.59e+03  -0.3 5.31e-01 6.80e-03f  5\n",
      " 104r 8.4438732e+05 4.13e+03 4.49e+04   1.3 7.96e+02   0.1 1.00e+00 3.75e-01f  1\n",
      " 105r 8.4806989e+05 4.13e+03 4.47e+04   1.3 2.43e+03  -0.4 1.00e+00 4.01e-03f  1\n",
      " 106r 8.5887100e+05 4.30e+03 8.82e+03   1.3 8.92e+02   0.1 1.00e+00 7.40e-01f  1\n",
      " 107r 9.0591727e+05 1.77e+03 4.74e+03   1.3 2.68e+03  -0.4 1.00e+00 9.81e-01f  1\n",
      " 108r 1.1032987e+06 5.62e+02 2.09e+04   1.3 8.14e+03  -0.9 1.00e+00 2.66e-01f  1\n",
      " 109r 1.0760486e+06 5.62e+02 2.09e+04   1.3 2.83e+04  -1.4 1.00e+00 7.67e-04f  1\n",
      "iter    objective    inf_pr   inf_du lg(mu)  ||d||  lg(rg) alpha_du alpha_pr  ls\n",
      " 110r 1.9126437e+06 5.77e+02 5.37e+04   1.3 9.68e+04    -  1.64e-02 3.38e-03f  7\n",
      " 111r 1.9123522e+06 5.77e+02 5.37e+04   1.3 4.39e+02  -0.1 1.00e+00 7.22e-04f  1\n",
      " 112r 1.7718460e+06 5.05e+02 2.76e+04   1.3 2.77e+02   0.4 1.00e+00 2.50e-01h  3\n",
      " 113r 2.8627234e+05 4.97e+01 6.97e+03   1.3 4.62e+02    -  1.00e+00 1.00e+00f  1\n",
      " 114r 2.9131094e+05 3.96e+00 3.27e+03   1.3 1.35e+01  -0.1 1.00e+00 1.00e+00f  1\n",
      " 115r 2.8112968e+05 5.79e+02 1.07e+03   1.3 3.64e+01  -0.6 1.00e+00 1.00e+00f  1\n",
      " 116r 3.7498508e+05 4.78e+02 1.92e+02   1.3 2.72e+02    -  1.00e+00 5.00e-01h  2\n",
      " 117r 3.8715629e+05 4.67e+02 1.17e+02   1.3 3.30e+02  -1.1 1.00e+00 3.12e-02h  6\n",
      " 118r 4.3878884e+05 4.52e+02 9.55e+02   1.3 7.56e+02  -1.5 1.00e+00 6.25e-02f  5\n",
      " 119r 3.8656082e+05 2.41e+02 1.93e+01   1.3 2.40e+02    -  1.00e+00 1.00e+00f  1\n",
      "Warning: SOC step rejected due to evaluation error\n",
      "iter    objective    inf_pr   inf_du lg(mu)  ||d||  lg(rg) alpha_du alpha_pr  ls\n",
      " 120r 4.0663201e+05 5.58e+01 5.46e+02   1.3 1.03e+02    -  1.00e+00 2.50e-01h  3\n",
      " 121r 4.1920505e+05 2.73e+02 8.32e+02   0.6 2.94e+01  -0.2 1.00e+00 1.00e+00f  1\n",
      " 122r 4.1977195e+05 1.63e+02 5.09e+03   0.6 3.78e+01   0.2 1.00e+00 2.50e-01f  3\n",
      " 123r 3.6790896e+05 2.33e+02 3.20e+03   0.6 4.75e+01  -0.3 1.00e+00 1.00e+00H  1\n",
      " 124r 3.9101087e+05 1.82e+01 2.46e+04   0.6 6.44e+01   0.2 1.00e+00 2.50e-01h  3\n",
      " 125r 3.9194906e+05 1.93e+01 3.90e+02   0.6 3.91e+00   1.5 1.00e+00 1.00e+00h  1\n",
      " 126r 3.9186077e+05 5.66e-01 1.18e+02   0.6 2.45e-01   1.0 1.00e+00 1.00e+00h  1\n",
      " 127r 4.1188472e+05 1.01e+02 3.39e+01  -0.1 2.60e+01    -  1.00e+00 1.00e+00f  1\n",
      " 128r 3.8631453e+05 1.32e+01 4.76e+01  -0.1 2.65e+01    -  1.00e+00 1.00e+00h  1\n",
      " 129r 3.9795346e+05 5.29e-01 1.49e-01  -0.1 1.37e+01    -  1.00e+00 1.00e+00h  1\n",
      "iter    objective    inf_pr   inf_du lg(mu)  ||d||  lg(rg) alpha_du alpha_pr  ls\n",
      " 130r 3.9775732e+05 1.01e-02 1.92e+00  -1.5 3.15e-01    -  1.00e+00 1.00e+00f  1\n",
      " 131r 3.9775673e+05 9.27e-08 2.78e-01  -2.3 4.07e-04    -  1.00e+00 1.00e+00f  1\n",
      "Warning: SOC step rejected due to evaluation error\n",
      " 132  3.9766103e+05 9.53e-05 6.85e+01  -1.0 3.36e+02    -  1.00e+00 1.22e-04f 14\n",
      "Warning: SOC step rejected due to evaluation error\n",
      " 133  1.0372449e+05 7.81e+03 1.35e+04  -1.0 3.36e+02    -  1.00e+00 5.00e-01f  2\n",
      " 134  1.1268358e+03 2.43e+03 4.27e+03  -1.0 1.55e+02    -  1.00e+00 1.00e+00f  1\n",
      " 135  1.0167208e+03 7.06e+02 2.03e+03  -1.0 1.34e+01    -  1.00e+00 1.00e+00f  1\n",
      " 136  4.4078902e+03 1.18e+02 2.13e+03  -1.0 5.22e+01    -  1.00e+00 1.00e+00h  1\n",
      " 137  1.3767939e+04 7.11e+00 1.57e+11  -1.0 8.27e+01   7.6 1.00e+00 1.00e+00h  1\n",
      " 138  1.3769624e+04 5.32e-02 1.59e+10  -1.0 9.63e-01   7.2 1.00e+00 1.00e+00h  1\n",
      " 139  1.3770075e+04 3.17e-06 1.80e+06  -1.0 2.79e-03   6.7 1.00e+00 1.00e+00h  1\n",
      "iter    objective    inf_pr   inf_du lg(mu)  ||d||  lg(rg) alpha_du alpha_pr  ls\n",
      " 140  1.3770075e+04 5.68e-14 1.56e+00  -1.0 9.50e-07   6.2 1.00e+00 1.00e+00h  1\n",
      " 141  1.3353637e+04 6.90e+00 3.23e+02  -1.0 2.39e+01    -  1.00e+00 1.00e+00f  1\n",
      " 142  1.3384490e+04 1.22e+00 1.39e+01  -1.0 1.26e+01    -  1.00e+00 1.00e+00h  1\n",
      " 143  1.3390088e+04 1.69e-03 4.04e-02  -1.0 3.45e-01    -  1.00e+00 1.00e+00h  1\n",
      " 144  1.3390093e+04 2.83e-09 1.92e-07  -2.5 2.20e-04    -  1.00e+00 1.00e+00h  1\n",
      " 145  1.3390093e+04 8.53e-14 3.18e-12  -8.6 5.55e-10    -  1.00e+00 1.00e+00h  1\n",
      "\n",
      "Number of Iterations....: 145\n",
      "\n",
      "                                   (scaled)                 (unscaled)\n",
      "Objective...............:   1.4554449042912586e+03    1.3390093119479579e+04\n",
      "Dual infeasibility......:   3.1832314562052488e-12    2.9285729397088292e-11\n",
      "Constraint violation....:   8.5265128291212022e-14    8.5265128291212022e-14\n",
      "Complementarity.........:   0.0000000000000000e+00    0.0000000000000000e+00\n",
      "Overall NLP error.......:   3.1832314562052488e-12    2.9285729397088292e-11\n",
      "\n",
      "\n",
      "Number of objective function evaluations             = 307\n",
      "Number of objective gradient evaluations             = 55\n",
      "Number of equality constraint evaluations            = 366\n",
      "Number of inequality constraint evaluations          = 0\n",
      "Number of equality constraint Jacobian evaluations   = 148\n",
      "Number of inequality constraint Jacobian evaluations = 0\n",
      "Number of Lagrangian Hessian evaluations             = 145\n",
      "Total CPU secs in IPOPT (w/o function evaluations)   =      0.072\n",
      "Total CPU secs in NLP function evaluations           =      0.012\n",
      "\n",
      "EXIT: Optimal Solution Found.\n"
     ]
    },
    {
     "data": {
      "text/plain": [
       ":Optimal"
      ]
     },
     "execution_count": 58,
     "metadata": {},
     "output_type": "execute_result"
    }
   ],
   "source": [
    "m = Model(solver =IpoptSolver())\n",
    "#coefficients\n",
    "@variable(m, k[1:3])\n",
    "#prediction values of regression\n",
    "@variable(m, pred[1:6])\n",
    "\n",
    "#set regression values\n",
    "for i in 1:6\n",
    "    @NLconstraint(m, pred[i] == k[1] + k[2]exp(x[i]k[3]))\n",
    "end\n",
    "@NLobjective(m,Min, sum((pred[i] - y[i])^2 for i = 1:6))\n",
    "solve(m)    "
   ]
  },
  {
   "cell_type": "code",
   "execution_count": 59,
   "metadata": {},
   "outputs": [
    {
     "name": "stdout",
     "output_type": "stream",
     "text": [
      "k1 = 523.3055386212442\n",
      "k2 = -156.94784350151681\n",
      "k3 = -0.19966456906074553\n"
     ]
    }
   ],
   "source": [
    "k_vals = getvalue(k)\n",
    "for i in 1:3\n",
    "    println(\"k\",i,\" = \",k_vals[i])\n",
    "end"
   ]
  },
  {
   "cell_type": "code",
   "execution_count": 65,
   "metadata": {},
   "outputs": [
    {
     "data": {
      "image/png": "[encoded data removed]",
      "text/plain": [
       "PyPlot.Figure(PyObject <matplotlib.figure.Figure object at 0x7fdab6594ed0>)"
      ]
     },
     "metadata": {},
     "output_type": "display_data"
    },
    {
     "data": {
      "text/plain": [
       "1-element Array{Any,1}:\n",
       " PyObject <matplotlib.lines.Line2D object at 0x7fdab640c910>"
      ]
     },
     "execution_count": 65,
     "metadata": {},
     "output_type": "execute_result"
    }
   ],
   "source": [
    "scatter(x,y)\n",
    "x_pred = linspace(-5,5,100)\n",
    "y_pred = k_vals[1] + k_vals[2].*exp(k_vals[3].*x_pred)\n",
    "plot(x_pred, y_pred,\"r\")"
   ]
  }
 ],
 "metadata": {
  "kernelspec": {
   "display_name": "Julia 0.5.1",
   "language": "julia",
   "name": "julia-0.5"
  },
  "language_info": {
   "file_extension": ".jl",
   "mimetype": "application/julia",
   "name": "julia",
   "version": "0.5.1"
  }
 },
 "nbformat": 4,
 "nbformat_minor": 2
}
