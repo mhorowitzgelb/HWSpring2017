{
 "cells": [
  {
   "cell_type": "markdown",
   "metadata": {},
   "source": [
    "# Q1"
   ]
  },
  {
   "cell_type": "code",
   "execution_count": 1,
   "metadata": {
    "collapsed": false
   },
   "outputs": [
    {
     "name": "stderr",
     "output_type": "stream",
     "text": [
      "\u001b[1m\u001b[34mINFO: Precompiling module Ipopt.\n",
      "\u001b[0m"
     ]
    },
    {
     "data": {
      "text/plain": [
       ":Optimal"
      ]
     },
     "execution_count": 1,
     "metadata": {},
     "output_type": "execute_result"
    }
   ],
   "source": [
    "using JuMP, Ipopt\n",
    "\n",
    "m = Model(solver = IpoptSolver(print_level=0))\n",
    "#Polar coordinate theta\n",
    "@variable(m, theta[1:6] >= 0)\n",
    "\n",
    "#Polar coordiante radius \n",
    "@variable(m, r[1:6] >= 0)\n",
    "\n",
    "#Areas of subtriangles\n",
    "@variable(m, area[1:6] >= 0)\n",
    "\n",
    "#Angles are increasing\n",
    "for i in 2:6\n",
    "    @constraint(m, theta[i] >= theta[i-1])\n",
    "end\n",
    "\n",
    "#distances between points less than 1\n",
    "@constraint(m, theta[6] == 2pi)\n",
    "for i in 1:5\n",
    "    for j in (i+1):6\n",
    "        @NLconstraint(m, \n",
    "            (r[i]cos(theta[i]) - r[j]cos(theta[j]))^2 + \n",
    "            (r[i]sin(theta[i]) - r[j]sin(theta[j]))^2 <= 1)\n",
    "        end\n",
    "    end\n",
    "@NLconstraint(m, area[1] == sin(theta[1])r[1]r[6]/2)\n",
    "for i in 2:6\n",
    "        @NLconstraint(m,area[i] == sin(theta[i] - theta[i-1])r[i]r[i-1]/2)\n",
    "end\n",
    "@objective(m, Max, sum(area))\n",
    "\n",
    "solve(m)"
   ]
  },
  {
   "cell_type": "code",
   "execution_count": 2,
   "metadata": {
    "collapsed": false
   },
   "outputs": [
    {
     "name": "stdout",
     "output_type": "stream",
     "text": [
      "Optimal total area: 0.6749814346444984"
     ]
    }
   ],
   "source": [
    "area_val = getvalue(area)\n",
    "print(\"Optimal total area: \", sum(area_val))"
   ]
  },
  {
   "cell_type": "code",
   "execution_count": 3,
   "metadata": {
    "collapsed": false
   },
   "outputs": [
    {
     "ename": "LoadError",
     "evalue": "ArgumentError: Module PyPlot not found in current path.\nRun `Pkg.add(\"PyPlot\")` to install the PyPlot package.",
     "output_type": "error",
     "traceback": [
      "ArgumentError: Module PyPlot not found in current path.\nRun `Pkg.add(\"PyPlot\")` to install the PyPlot package.",
      "",
      " in require(::Symbol) at .\\loading.jl:365"
     ]
    }
   ],
   "source": [
    "using PyPlot\n",
    "theta_val = getvalue(theta)\n",
    "r_val = getvalue(r)\n",
    "x = cos(theta_val).*r_val\n",
    "y = sin(theta_val).*r_val\n",
    "plot(x,y,\"r\")\n",
    "plot([x[6],x[1]],[y[6],y[1]], \"r\" )\n",
    "\n",
    "max_val =0\n",
    "for i in 1:5\n",
    "    for j in i+1:6\n",
    "        dist = (x[i] - x[j])^2 + (y[i] - y[j])^2\n",
    "        max_val = max(max_val, dist)\n",
    "    end\n",
    "end\n",
    "print(\"Max distance squared, \",max_val)"
   ]
  },
  {
   "cell_type": "markdown",
   "metadata": {},
   "source": [
    "# Q2"
   ]
  },
  {
   "cell_type": "code",
   "execution_count": 1,
   "metadata": {
    "collapsed": false
   },
   "outputs": [
    {
     "data": {
      "text/plain": [
       "6-element Array{Int64,1}:\n",
       " 127\n",
       " 151\n",
       " 379\n",
       " 421\n",
       " 460\n",
       " 426"
      ]
     },
     "execution_count": 1,
     "metadata": {},
     "output_type": "execute_result"
    }
   ],
   "source": [
    "x = [-5; -3; -1; 1; 3; 5]\n",
    "y = [127; 151; 379; 421; 460; 426]"
   ]
  },
  {
   "cell_type": "code",
   "execution_count": 3,
   "metadata": {
    "collapsed": false
   },
   "outputs": [
    {
     "ename": "LoadError",
     "evalue": "ArgumentError: Module Ipopt not found in current path.\nRun `Pkg.add(\"Ipopt\")` to install the Ipopt package.",
     "output_type": "error",
     "traceback": [
      "ArgumentError: Module Ipopt not found in current path.\nRun `Pkg.add(\"Ipopt\")` to install the Ipopt package.",
      "",
      " in require(::Symbol) at .\\loading.jl:365"
     ]
    }
   ],
   "source": [
    "using JuMP, Ipopt\n",
    "m = Model(solver =IpoptSolver())\n",
    "#coefficients\n",
    "@variable(m, k[1:3])\n",
    "#prediction values of regression\n",
    "@variable(m, pred[1:6])\n",
    "\n",
    "#set regression values\n",
    "for i in 1:6\n",
    "    @NLconstraint(m, pred[i] == k[1] + k[2]exp(x[i]k[3]))\n",
    "end\n",
    "@NLobjective(m,Min, sum((pred[i] - y[i])^2 for i = 1:6))\n",
    "solve(m)    "
   ]
  },
  {
   "cell_type": "code",
   "execution_count": 59,
   "metadata": {
    "collapsed": false
   },
   "outputs": [
    {
     "name": "stdout",
     "output_type": "stream",
     "text": [
      "k1 = 523.3055386212442\n",
      "k2 = -156.94784350151681\n",
      "k3 = -0.19966456906074553\n"
     ]
    }
   ],
   "source": [
    "k_vals = getvalue(k)\n",
    "for i in 1:3\n",
    "    println(\"k\",i,\" = \",k_vals[i])\n",
    "end"
   ]
  },
  {
   "cell_type": "code",
   "execution_count": 65,
   "metadata": {
    "collapsed": false
   },
   "outputs": [
    {
     "data": {
      "image/png": "[encoded data removed]",
      "text/plain": [
       "PyPlot.Figure(PyObject <matplotlib.figure.Figure object at 0x7fdab6594ed0>)"
      ]
     },
     "metadata": {},
     "output_type": "display_data"
    },
    {
     "data": {
      "text/plain": [
       "1-element Array{Any,1}:\n",
       " PyObject <matplotlib.lines.Line2D object at 0x7fdab640c910>"
      ]
     },
     "execution_count": 65,
     "metadata": {},
     "output_type": "execute_result"
    }
   ],
   "source": [
    "scatter(x,y)\n",
    "x_pred = linspace(-5,5,100)\n",
    "y_pred = k_vals[1] + k_vals[2].*exp(k_vals[3].*x_pred)\n",
    "plot(x_pred, y_pred,\"r\")"
   ]
  }
 ],
 "metadata": {
  "anaconda-cloud": {},
  "kernelspec": {
   "display_name": "Julia 0.5.1",
   "language": "julia",
   "name": "julia-0.5"
  },
  "language_info": {
   "file_extension": ".jl",
   "mimetype": "application/julia",
   "name": "julia",
   "version": "0.5.1"
  }
 },
 "nbformat": 4,
 "nbformat_minor": 2
}
